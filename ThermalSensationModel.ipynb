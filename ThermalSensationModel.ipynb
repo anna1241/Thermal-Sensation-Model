{
  "nbformat": 4,
  "nbformat_minor": 0,
  "metadata": {
    "colab": {
      "provenance": [],
      "collapsed_sections": [
        "bPiQ3E1pvV0q",
        "OMprpUlt4HI5",
        "fW7ueOavxUGl",
        "aL69aZpzf3Ws",
        "0ifPoZHOVS9m"
      ]
    },
    "kernelspec": {
      "name": "python3",
      "display_name": "Python 3"
    },
    "language_info": {
      "name": "python"
    }
  },
  "cells": [
    {
      "cell_type": "code",
      "execution_count": 364,
      "metadata": {
        "id": "Ht-vLMDpEPd2"
      },
      "outputs": [],
      "source": [
        "import pandas as pd\n",
        "import seaborn as sns\n",
        "import matplotlib.pyplot as plt\n",
        "df = pd.read_excel('CollectedData.xlsx', sheet_name='Sheet2')"
      ]
    },
    {
      "cell_type": "code",
      "source": [
        "df2 = pd.read_excel('CollectedData.xlsx', sheet_name='Sheet2', header=None, usecols=[2, 7, 18, 21, 25, 26, 36, 37, 39, 41, 42, 43, 48, 73, 76], names=['Age', 'AMV', 'Met','Clo', 'Dewpt', 'PlaneRadTemp', 'Ta', 'Tmrt', 'Vel', 'AirTurb', 'Pa', 'Rh', 'PMV', 'TaOutdoor','RhOutdoor'])\n",
        "df2.head()"
      ],
      "metadata": {
        "id": "MagJDITb1jHV",
        "colab": {
          "base_uri": "https://localhost:8080/",
          "height": 206
        },
        "outputId": "2cb7778c-3c7a-4892-e32f-a2f08f0fdedd"
      },
      "execution_count": 365,
      "outputs": [
        {
          "output_type": "execute_result",
          "data": {
            "text/plain": [
              "   Age  AMV  Met   Clo  Dewpt  PlaneRadTemp    Ta       Tmrt   Vel  AirTurb  \\\n",
              "0  NaN  2.0  2.1  0.65    NaN           NaN  19.1  19.629472  0.06      NaN   \n",
              "1  NaN  2.0  2.1  0.78    NaN           NaN  19.1  19.629472  0.06      NaN   \n",
              "2  NaN  1.0  2.1  1.05    NaN           NaN  20.0  19.046655  0.06      NaN   \n",
              "3  NaN  3.0  2.6  0.40    NaN           NaN  21.0  20.153116  0.06      NaN   \n",
              "4  NaN  3.0  3.0  0.37    NaN           NaN  23.0  21.942458  0.06      NaN   \n",
              "\n",
              "   Pa     Rh   PMV  TaOutdoor  RhOutdoor  \n",
              "0 NaN  51.25  0.34      11.55       79.0  \n",
              "1 NaN  51.30  0.51      11.55       79.0  \n",
              "2 NaN  51.90  0.80      11.55       79.0  \n",
              "3 NaN  49.90  0.76      11.55       79.0  \n",
              "4 NaN  45.60  1.47      11.55       79.0  "
            ],
            "text/html": [
              "\n",
              "  <div id=\"df-fdc6ab93-d6a3-4608-a3b9-c1f9167a0714\">\n",
              "    <div class=\"colab-df-container\">\n",
              "      <div>\n",
              "<style scoped>\n",
              "    .dataframe tbody tr th:only-of-type {\n",
              "        vertical-align: middle;\n",
              "    }\n",
              "\n",
              "    .dataframe tbody tr th {\n",
              "        vertical-align: top;\n",
              "    }\n",
              "\n",
              "    .dataframe thead th {\n",
              "        text-align: right;\n",
              "    }\n",
              "</style>\n",
              "<table border=\"1\" class=\"dataframe\">\n",
              "  <thead>\n",
              "    <tr style=\"text-align: right;\">\n",
              "      <th></th>\n",
              "      <th>Age</th>\n",
              "      <th>AMV</th>\n",
              "      <th>Met</th>\n",
              "      <th>Clo</th>\n",
              "      <th>Dewpt</th>\n",
              "      <th>PlaneRadTemp</th>\n",
              "      <th>Ta</th>\n",
              "      <th>Tmrt</th>\n",
              "      <th>Vel</th>\n",
              "      <th>AirTurb</th>\n",
              "      <th>Pa</th>\n",
              "      <th>Rh</th>\n",
              "      <th>PMV</th>\n",
              "      <th>TaOutdoor</th>\n",
              "      <th>RhOutdoor</th>\n",
              "    </tr>\n",
              "  </thead>\n",
              "  <tbody>\n",
              "    <tr>\n",
              "      <th>0</th>\n",
              "      <td>NaN</td>\n",
              "      <td>2.0</td>\n",
              "      <td>2.1</td>\n",
              "      <td>0.65</td>\n",
              "      <td>NaN</td>\n",
              "      <td>NaN</td>\n",
              "      <td>19.1</td>\n",
              "      <td>19.629472</td>\n",
              "      <td>0.06</td>\n",
              "      <td>NaN</td>\n",
              "      <td>NaN</td>\n",
              "      <td>51.25</td>\n",
              "      <td>0.34</td>\n",
              "      <td>11.55</td>\n",
              "      <td>79.0</td>\n",
              "    </tr>\n",
              "    <tr>\n",
              "      <th>1</th>\n",
              "      <td>NaN</td>\n",
              "      <td>2.0</td>\n",
              "      <td>2.1</td>\n",
              "      <td>0.78</td>\n",
              "      <td>NaN</td>\n",
              "      <td>NaN</td>\n",
              "      <td>19.1</td>\n",
              "      <td>19.629472</td>\n",
              "      <td>0.06</td>\n",
              "      <td>NaN</td>\n",
              "      <td>NaN</td>\n",
              "      <td>51.30</td>\n",
              "      <td>0.51</td>\n",
              "      <td>11.55</td>\n",
              "      <td>79.0</td>\n",
              "    </tr>\n",
              "    <tr>\n",
              "      <th>2</th>\n",
              "      <td>NaN</td>\n",
              "      <td>1.0</td>\n",
              "      <td>2.1</td>\n",
              "      <td>1.05</td>\n",
              "      <td>NaN</td>\n",
              "      <td>NaN</td>\n",
              "      <td>20.0</td>\n",
              "      <td>19.046655</td>\n",
              "      <td>0.06</td>\n",
              "      <td>NaN</td>\n",
              "      <td>NaN</td>\n",
              "      <td>51.90</td>\n",
              "      <td>0.80</td>\n",
              "      <td>11.55</td>\n",
              "      <td>79.0</td>\n",
              "    </tr>\n",
              "    <tr>\n",
              "      <th>3</th>\n",
              "      <td>NaN</td>\n",
              "      <td>3.0</td>\n",
              "      <td>2.6</td>\n",
              "      <td>0.40</td>\n",
              "      <td>NaN</td>\n",
              "      <td>NaN</td>\n",
              "      <td>21.0</td>\n",
              "      <td>20.153116</td>\n",
              "      <td>0.06</td>\n",
              "      <td>NaN</td>\n",
              "      <td>NaN</td>\n",
              "      <td>49.90</td>\n",
              "      <td>0.76</td>\n",
              "      <td>11.55</td>\n",
              "      <td>79.0</td>\n",
              "    </tr>\n",
              "    <tr>\n",
              "      <th>4</th>\n",
              "      <td>NaN</td>\n",
              "      <td>3.0</td>\n",
              "      <td>3.0</td>\n",
              "      <td>0.37</td>\n",
              "      <td>NaN</td>\n",
              "      <td>NaN</td>\n",
              "      <td>23.0</td>\n",
              "      <td>21.942458</td>\n",
              "      <td>0.06</td>\n",
              "      <td>NaN</td>\n",
              "      <td>NaN</td>\n",
              "      <td>45.60</td>\n",
              "      <td>1.47</td>\n",
              "      <td>11.55</td>\n",
              "      <td>79.0</td>\n",
              "    </tr>\n",
              "  </tbody>\n",
              "</table>\n",
              "</div>\n",
              "      <button class=\"colab-df-convert\" onclick=\"convertToInteractive('df-fdc6ab93-d6a3-4608-a3b9-c1f9167a0714')\"\n",
              "              title=\"Convert this dataframe to an interactive table.\"\n",
              "              style=\"display:none;\">\n",
              "        \n",
              "  <svg xmlns=\"http://www.w3.org/2000/svg\" height=\"24px\"viewBox=\"0 0 24 24\"\n",
              "       width=\"24px\">\n",
              "    <path d=\"M0 0h24v24H0V0z\" fill=\"none\"/>\n",
              "    <path d=\"M18.56 5.44l.94 2.06.94-2.06 2.06-.94-2.06-.94-.94-2.06-.94 2.06-2.06.94zm-11 1L8.5 8.5l.94-2.06 2.06-.94-2.06-.94L8.5 2.5l-.94 2.06-2.06.94zm10 10l.94 2.06.94-2.06 2.06-.94-2.06-.94-.94-2.06-.94 2.06-2.06.94z\"/><path d=\"M17.41 7.96l-1.37-1.37c-.4-.4-.92-.59-1.43-.59-.52 0-1.04.2-1.43.59L10.3 9.45l-7.72 7.72c-.78.78-.78 2.05 0 2.83L4 21.41c.39.39.9.59 1.41.59.51 0 1.02-.2 1.41-.59l7.78-7.78 2.81-2.81c.8-.78.8-2.07 0-2.86zM5.41 20L4 18.59l7.72-7.72 1.47 1.35L5.41 20z\"/>\n",
              "  </svg>\n",
              "      </button>\n",
              "      \n",
              "  <style>\n",
              "    .colab-df-container {\n",
              "      display:flex;\n",
              "      flex-wrap:wrap;\n",
              "      gap: 12px;\n",
              "    }\n",
              "\n",
              "    .colab-df-convert {\n",
              "      background-color: #E8F0FE;\n",
              "      border: none;\n",
              "      border-radius: 50%;\n",
              "      cursor: pointer;\n",
              "      display: none;\n",
              "      fill: #1967D2;\n",
              "      height: 32px;\n",
              "      padding: 0 0 0 0;\n",
              "      width: 32px;\n",
              "    }\n",
              "\n",
              "    .colab-df-convert:hover {\n",
              "      background-color: #E2EBFA;\n",
              "      box-shadow: 0px 1px 2px rgba(60, 64, 67, 0.3), 0px 1px 3px 1px rgba(60, 64, 67, 0.15);\n",
              "      fill: #174EA6;\n",
              "    }\n",
              "\n",
              "    [theme=dark] .colab-df-convert {\n",
              "      background-color: #3B4455;\n",
              "      fill: #D2E3FC;\n",
              "    }\n",
              "\n",
              "    [theme=dark] .colab-df-convert:hover {\n",
              "      background-color: #434B5C;\n",
              "      box-shadow: 0px 1px 3px 1px rgba(0, 0, 0, 0.15);\n",
              "      filter: drop-shadow(0px 1px 2px rgba(0, 0, 0, 0.3));\n",
              "      fill: #FFFFFF;\n",
              "    }\n",
              "  </style>\n",
              "\n",
              "      <script>\n",
              "        const buttonEl =\n",
              "          document.querySelector('#df-fdc6ab93-d6a3-4608-a3b9-c1f9167a0714 button.colab-df-convert');\n",
              "        buttonEl.style.display =\n",
              "          google.colab.kernel.accessAllowed ? 'block' : 'none';\n",
              "\n",
              "        async function convertToInteractive(key) {\n",
              "          const element = document.querySelector('#df-fdc6ab93-d6a3-4608-a3b9-c1f9167a0714');\n",
              "          const dataTable =\n",
              "            await google.colab.kernel.invokeFunction('convertToInteractive',\n",
              "                                                     [key], {});\n",
              "          if (!dataTable) return;\n",
              "\n",
              "          const docLinkHtml = 'Like what you see? Visit the ' +\n",
              "            '<a target=\"_blank\" href=https://colab.research.google.com/notebooks/data_table.ipynb>data table notebook</a>'\n",
              "            + ' to learn more about interactive tables.';\n",
              "          element.innerHTML = '';\n",
              "          dataTable['output_type'] = 'display_data';\n",
              "          await google.colab.output.renderOutput(dataTable, element);\n",
              "          const docLink = document.createElement('div');\n",
              "          docLink.innerHTML = docLinkHtml;\n",
              "          element.appendChild(docLink);\n",
              "        }\n",
              "      </script>\n",
              "    </div>\n",
              "  </div>\n",
              "  "
            ]
          },
          "metadata": {},
          "execution_count": 365
        }
      ]
    },
    {
      "cell_type": "markdown",
      "source": [
        "# **Q1**"
      ],
      "metadata": {
        "id": "l3cjnWSjesfX"
      }
    },
    {
      "cell_type": "code",
      "source": [
        "print(df2.dtypes)"
      ],
      "metadata": {
        "id": "1nnUZYvAe7ll",
        "colab": {
          "base_uri": "https://localhost:8080/"
        },
        "outputId": "67649361-fddc-487b-a12c-53ffe4ca57c1"
      },
      "execution_count": 366,
      "outputs": [
        {
          "output_type": "stream",
          "name": "stdout",
          "text": [
            "Age             float64\n",
            "AMV             float64\n",
            "Met             float64\n",
            "Clo             float64\n",
            "Dewpt           float64\n",
            "PlaneRadTemp    float64\n",
            "Ta              float64\n",
            "Tmrt            float64\n",
            "Vel             float64\n",
            "AirTurb         float64\n",
            "Pa              float64\n",
            "Rh              float64\n",
            "PMV             float64\n",
            "TaOutdoor       float64\n",
            "RhOutdoor       float64\n",
            "dtype: object\n"
          ]
        }
      ]
    },
    {
      "cell_type": "code",
      "source": [
        "print(df2.count())"
      ],
      "metadata": {
        "id": "sOVyfBX2l8ow",
        "colab": {
          "base_uri": "https://localhost:8080/"
        },
        "outputId": "a657b409-0a1d-403e-ce76-032c304f973a"
      },
      "execution_count": 367,
      "outputs": [
        {
          "output_type": "stream",
          "name": "stdout",
          "text": [
            "Age              9650\n",
            "AMV             12511\n",
            "Met             10679\n",
            "Clo             11160\n",
            "Dewpt            9014\n",
            "PlaneRadTemp     5544\n",
            "Ta              12546\n",
            "Tmrt             8865\n",
            "Vel              8866\n",
            "AirTurb          6965\n",
            "Pa               7910\n",
            "Rh              12531\n",
            "PMV             11870\n",
            "TaOutdoor       11198\n",
            "RhOutdoor       12547\n",
            "dtype: int64\n"
          ]
        }
      ]
    },
    {
      "cell_type": "code",
      "source": [
        "print(df2.isna().sum())"
      ],
      "metadata": {
        "id": "TX7rgcnQit5E",
        "colab": {
          "base_uri": "https://localhost:8080/"
        },
        "outputId": "8304ba6f-ebea-4386-8a3b-269491bcc211"
      },
      "execution_count": 368,
      "outputs": [
        {
          "output_type": "stream",
          "name": "stdout",
          "text": [
            "Age             2916\n",
            "AMV               55\n",
            "Met             1887\n",
            "Clo             1406\n",
            "Dewpt           3552\n",
            "PlaneRadTemp    7022\n",
            "Ta                20\n",
            "Tmrt            3701\n",
            "Vel             3700\n",
            "AirTurb         5601\n",
            "Pa              4656\n",
            "Rh                35\n",
            "PMV              696\n",
            "TaOutdoor       1368\n",
            "RhOutdoor         19\n",
            "dtype: int64\n"
          ]
        }
      ]
    },
    {
      "cell_type": "code",
      "source": [
        "def find_outliers_IQR(df):\n",
        "\n",
        "   q1=df.quantile(0.25)\n",
        "\n",
        "   q3=df.quantile(0.75)\n",
        "\n",
        "   IQR=q3-q1\n",
        "\n",
        "   outliers = df[((df<(q1-1.5*IQR)) | (df>(q3+1.5*IQR)))]\n",
        "\n",
        "   return outliers\n",
        "\n",
        "for column_name in df2: \n",
        "  outliers = find_outliers_IQR(df2[column_name])\n",
        "  print(\"Outliers: \",column_name,\" \" + str(len(outliers)))"
      ],
      "metadata": {
        "id": "rU3LHKFdjsdm",
        "colab": {
          "base_uri": "https://localhost:8080/"
        },
        "outputId": "1ad94162-7764-4360-80fe-59e5834f670b"
      },
      "execution_count": 369,
      "outputs": [
        {
          "output_type": "stream",
          "name": "stdout",
          "text": [
            "Outliers:  Age  1359\n",
            "Outliers:  AMV  0\n",
            "Outliers:  Met  1732\n",
            "Outliers:  Clo  373\n",
            "Outliers:  Dewpt  0\n",
            "Outliers:  PlaneRadTemp  452\n",
            "Outliers:  Ta  540\n",
            "Outliers:  Tmrt  344\n",
            "Outliers:  Vel  309\n",
            "Outliers:  AirTurb  2\n",
            "Outliers:  Pa  1352\n",
            "Outliers:  Rh  0\n",
            "Outliers:  PMV  259\n",
            "Outliers:  TaOutdoor  124\n",
            "Outliers:  RhOutdoor  1349\n"
          ]
        }
      ]
    },
    {
      "cell_type": "code",
      "source": [
        "print(df2.min())"
      ],
      "metadata": {
        "id": "LNkamXfBpf7O",
        "colab": {
          "base_uri": "https://localhost:8080/"
        },
        "outputId": "3c4248ed-6bf6-48d3-b7ee-2bfa6bee0599"
      },
      "execution_count": 370,
      "outputs": [
        {
          "output_type": "stream",
          "name": "stdout",
          "text": [
            "Age              0.000\n",
            "AMV             -3.000\n",
            "Met              0.100\n",
            "Clo              0.150\n",
            "Dewpt           -1.953\n",
            "PlaneRadTemp    -7.420\n",
            "Ta              15.960\n",
            "Tmrt            16.610\n",
            "Vel              0.000\n",
            "AirTurb          0.000\n",
            "Pa               0.000\n",
            "Rh               7.400\n",
            "PMV             -4.170\n",
            "TaOutdoor      -24.900\n",
            "RhOutdoor        0.000\n",
            "dtype: float64\n"
          ]
        }
      ]
    },
    {
      "cell_type": "code",
      "source": [
        "print(df2.max())"
      ],
      "metadata": {
        "id": "A28PrFsDploR",
        "colab": {
          "base_uri": "https://localhost:8080/"
        },
        "outputId": "82ea89f6-43bc-4689-a6c7-8581d98ce67c"
      },
      "execution_count": 371,
      "outputs": [
        {
          "output_type": "stream",
          "name": "stdout",
          "text": [
            "Age             1996.00000\n",
            "AMV                3.00000\n",
            "Met                4.50000\n",
            "Clo                2.13000\n",
            "Dewpt             26.89675\n",
            "PlaneRadTemp      11.70000\n",
            "Ta                31.00000\n",
            "Tmrt              37.44500\n",
            "Vel                1.88000\n",
            "AirTurb          102.45000\n",
            "Pa                27.70000\n",
            "Rh                79.30000\n",
            "PMV                2.50000\n",
            "TaOutdoor         32.35000\n",
            "RhOutdoor        100.35000\n",
            "dtype: float64\n"
          ]
        }
      ]
    },
    {
      "cell_type": "code",
      "source": [
        "print(df2.mode())"
      ],
      "metadata": {
        "id": "h30iebaHptd_",
        "colab": {
          "base_uri": "https://localhost:8080/"
        },
        "outputId": "f7773eb9-0e69-49f1-ecad-f3fa76dfc5b0"
      },
      "execution_count": 372,
      "outputs": [
        {
          "output_type": "stream",
          "name": "stdout",
          "text": [
            "    Age  AMV  Met   Clo  Dewpt  PlaneRadTemp    Ta  Tmrt  Vel  AirTurb   Pa  \\\n",
            "0  24.0  0.0  1.0  0.77   17.4           0.3  23.2  22.5  0.1      0.5  2.1   \n",
            "\n",
            "     Rh  PMV  TaOutdoor  RhOutdoor  \n",
            "0  64.0  0.1  27.555556        0.0  \n"
          ]
        }
      ]
    },
    {
      "cell_type": "code",
      "source": [
        "print(df2.mean())"
      ],
      "metadata": {
        "id": "TuhrQ90EpI57",
        "colab": {
          "base_uri": "https://localhost:8080/"
        },
        "outputId": "8e9989c7-d182-4639-d9fe-ae944a63cd10"
      },
      "execution_count": 373,
      "outputs": [
        {
          "output_type": "stream",
          "name": "stdout",
          "text": [
            "Age             308.637202\n",
            "AMV               0.100735\n",
            "Met               1.066003\n",
            "Clo               0.778492\n",
            "Dewpt            13.621447\n",
            "PlaneRadTemp      0.217785\n",
            "Ta               23.178861\n",
            "Tmrt             23.450261\n",
            "Vel               0.112439\n",
            "AirTurb          18.265870\n",
            "Pa                5.123996\n",
            "Rh               42.529203\n",
            "PMV              -0.073676\n",
            "TaOutdoor        17.174585\n",
            "RhOutdoor        61.100365\n",
            "dtype: float64\n"
          ]
        }
      ]
    },
    {
      "cell_type": "code",
      "source": [
        "print(df2.median())"
      ],
      "metadata": {
        "id": "3yq7oMYOpd-x",
        "colab": {
          "base_uri": "https://localhost:8080/"
        },
        "outputId": "1990c3d7-1bce-4937-f2cb-804b32d8e09d"
      },
      "execution_count": 374,
      "outputs": [
        {
          "output_type": "stream",
          "name": "stdout",
          "text": [
            "Age             35.000000\n",
            "AMV              0.000000\n",
            "Met              1.100000\n",
            "Clo              0.751700\n",
            "Dewpt           14.100000\n",
            "PlaneRadTemp     0.200000\n",
            "Ta              23.136667\n",
            "Tmrt            23.358438\n",
            "Vel              0.100000\n",
            "AirTurb          0.500000\n",
            "Pa               1.550667\n",
            "Rh              43.280000\n",
            "PMV             -0.030000\n",
            "TaOutdoor       18.200000\n",
            "RhOutdoor       68.795799\n",
            "dtype: float64\n"
          ]
        }
      ]
    },
    {
      "cell_type": "code",
      "source": [
        "print(df2.var())"
      ],
      "metadata": {
        "id": "z1XohhIZp8ny",
        "colab": {
          "base_uri": "https://localhost:8080/"
        },
        "outputId": "b8eade84-8fa6-470f-b6fb-52abad6e66e4"
      },
      "execution_count": 375,
      "outputs": [
        {
          "output_type": "stream",
          "name": "stdout",
          "text": [
            "Age             462556.556104\n",
            "AMV                  1.214621\n",
            "Met                  0.184022\n",
            "Clo                  0.049281\n",
            "Dewpt               34.845928\n",
            "PlaneRadTemp         1.084022\n",
            "Ta                   2.054606\n",
            "Tmrt                 2.258867\n",
            "Vel                  0.006248\n",
            "AirTurb            627.057129\n",
            "Pa                  66.522562\n",
            "Rh                 226.835983\n",
            "PMV                  0.289461\n",
            "TaOutdoor          113.743733\n",
            "RhOutdoor          610.282477\n",
            "dtype: float64\n"
          ]
        }
      ]
    },
    {
      "cell_type": "code",
      "source": [
        "print(df2.std())"
      ],
      "metadata": {
        "id": "qeiVHu0gqQt5",
        "colab": {
          "base_uri": "https://localhost:8080/"
        },
        "outputId": "19ccff50-6d6f-4b78-8da7-dd8dbd6f44da"
      },
      "execution_count": 376,
      "outputs": [
        {
          "output_type": "stream",
          "name": "stdout",
          "text": [
            "Age             680.115105\n",
            "AMV               1.102099\n",
            "Met               0.428978\n",
            "Clo               0.221992\n",
            "Dewpt             5.903044\n",
            "PlaneRadTemp      1.041164\n",
            "Ta                1.433390\n",
            "Tmrt              1.502953\n",
            "Vel               0.079041\n",
            "AirTurb          25.041109\n",
            "Pa                8.156136\n",
            "Rh               15.061075\n",
            "PMV               0.538016\n",
            "TaOutdoor        10.665071\n",
            "RhOutdoor        24.703896\n",
            "dtype: float64\n"
          ]
        }
      ]
    },
    {
      "cell_type": "code",
      "source": [
        "df2.describe()"
      ],
      "metadata": {
        "id": "inLlJw5J1hWE",
        "colab": {
          "base_uri": "https://localhost:8080/",
          "height": 364
        },
        "outputId": "0f5d872d-0903-402e-8390-466d26a0b43d"
      },
      "execution_count": 377,
      "outputs": [
        {
          "output_type": "execute_result",
          "data": {
            "text/plain": [
              "               Age           AMV           Met           Clo        Dewpt  \\\n",
              "count  9650.000000  12511.000000  10679.000000  11160.000000  9014.000000   \n",
              "mean    308.637202      0.100735      1.066003      0.778492    13.621447   \n",
              "std     680.115105      1.102099      0.428978      0.221992     5.903044   \n",
              "min       0.000000     -3.000000      0.100000      0.150000    -1.953000   \n",
              "25%      26.000000     -0.700000      1.000000      0.630000     9.600000   \n",
              "50%      35.000000      0.000000      1.100000      0.751700    14.100000   \n",
              "75%      45.000000      1.000000      1.241468      0.880000    17.337500   \n",
              "max    1996.000000      3.000000      4.500000      2.130000    26.896750   \n",
              "\n",
              "       PlaneRadTemp            Ta         Tmrt          Vel      AirTurb  \\\n",
              "count   5544.000000  12546.000000  8865.000000  8866.000000  6965.000000   \n",
              "mean       0.217785     23.178861    23.450261     0.112439    18.265870   \n",
              "std        1.041164      1.433390     1.502953     0.079041    25.041109   \n",
              "min       -7.420000     15.960000    16.610000     0.000000     0.000000   \n",
              "25%       -0.230000     22.300000    22.588684     0.068000     0.320000   \n",
              "50%        0.200000     23.136667    23.358438     0.100000     0.500000   \n",
              "75%        0.600000     23.900000    24.250000     0.140000    38.815000   \n",
              "max       11.700000     31.000000    37.445000     1.880000   102.450000   \n",
              "\n",
              "                Pa            Rh           PMV     TaOutdoor     RhOutdoor  \n",
              "count  7910.000000  12531.000000  11870.000000  11198.000000  12547.000000  \n",
              "mean      5.123996     42.529203     -0.073676     17.174585     61.100365  \n",
              "std       8.156136     15.061075      0.538016     10.665071     24.703896  \n",
              "min       0.000000      7.400000     -4.170000    -24.900000      0.000000  \n",
              "25%       1.226667     29.300000     -0.400000     11.350000     53.769937  \n",
              "50%       1.550667     43.280000     -0.030000     18.200000     68.795799  \n",
              "75%       1.985333     55.500125      0.260000     26.600000     76.950000  \n",
              "max      27.700000     79.300000      2.500000     32.350000    100.350000  "
            ],
            "text/html": [
              "\n",
              "  <div id=\"df-57d8f3b5-d78e-4310-aaeb-92ad13ec95ef\">\n",
              "    <div class=\"colab-df-container\">\n",
              "      <div>\n",
              "<style scoped>\n",
              "    .dataframe tbody tr th:only-of-type {\n",
              "        vertical-align: middle;\n",
              "    }\n",
              "\n",
              "    .dataframe tbody tr th {\n",
              "        vertical-align: top;\n",
              "    }\n",
              "\n",
              "    .dataframe thead th {\n",
              "        text-align: right;\n",
              "    }\n",
              "</style>\n",
              "<table border=\"1\" class=\"dataframe\">\n",
              "  <thead>\n",
              "    <tr style=\"text-align: right;\">\n",
              "      <th></th>\n",
              "      <th>Age</th>\n",
              "      <th>AMV</th>\n",
              "      <th>Met</th>\n",
              "      <th>Clo</th>\n",
              "      <th>Dewpt</th>\n",
              "      <th>PlaneRadTemp</th>\n",
              "      <th>Ta</th>\n",
              "      <th>Tmrt</th>\n",
              "      <th>Vel</th>\n",
              "      <th>AirTurb</th>\n",
              "      <th>Pa</th>\n",
              "      <th>Rh</th>\n",
              "      <th>PMV</th>\n",
              "      <th>TaOutdoor</th>\n",
              "      <th>RhOutdoor</th>\n",
              "    </tr>\n",
              "  </thead>\n",
              "  <tbody>\n",
              "    <tr>\n",
              "      <th>count</th>\n",
              "      <td>9650.000000</td>\n",
              "      <td>12511.000000</td>\n",
              "      <td>10679.000000</td>\n",
              "      <td>11160.000000</td>\n",
              "      <td>9014.000000</td>\n",
              "      <td>5544.000000</td>\n",
              "      <td>12546.000000</td>\n",
              "      <td>8865.000000</td>\n",
              "      <td>8866.000000</td>\n",
              "      <td>6965.000000</td>\n",
              "      <td>7910.000000</td>\n",
              "      <td>12531.000000</td>\n",
              "      <td>11870.000000</td>\n",
              "      <td>11198.000000</td>\n",
              "      <td>12547.000000</td>\n",
              "    </tr>\n",
              "    <tr>\n",
              "      <th>mean</th>\n",
              "      <td>308.637202</td>\n",
              "      <td>0.100735</td>\n",
              "      <td>1.066003</td>\n",
              "      <td>0.778492</td>\n",
              "      <td>13.621447</td>\n",
              "      <td>0.217785</td>\n",
              "      <td>23.178861</td>\n",
              "      <td>23.450261</td>\n",
              "      <td>0.112439</td>\n",
              "      <td>18.265870</td>\n",
              "      <td>5.123996</td>\n",
              "      <td>42.529203</td>\n",
              "      <td>-0.073676</td>\n",
              "      <td>17.174585</td>\n",
              "      <td>61.100365</td>\n",
              "    </tr>\n",
              "    <tr>\n",
              "      <th>std</th>\n",
              "      <td>680.115105</td>\n",
              "      <td>1.102099</td>\n",
              "      <td>0.428978</td>\n",
              "      <td>0.221992</td>\n",
              "      <td>5.903044</td>\n",
              "      <td>1.041164</td>\n",
              "      <td>1.433390</td>\n",
              "      <td>1.502953</td>\n",
              "      <td>0.079041</td>\n",
              "      <td>25.041109</td>\n",
              "      <td>8.156136</td>\n",
              "      <td>15.061075</td>\n",
              "      <td>0.538016</td>\n",
              "      <td>10.665071</td>\n",
              "      <td>24.703896</td>\n",
              "    </tr>\n",
              "    <tr>\n",
              "      <th>min</th>\n",
              "      <td>0.000000</td>\n",
              "      <td>-3.000000</td>\n",
              "      <td>0.100000</td>\n",
              "      <td>0.150000</td>\n",
              "      <td>-1.953000</td>\n",
              "      <td>-7.420000</td>\n",
              "      <td>15.960000</td>\n",
              "      <td>16.610000</td>\n",
              "      <td>0.000000</td>\n",
              "      <td>0.000000</td>\n",
              "      <td>0.000000</td>\n",
              "      <td>7.400000</td>\n",
              "      <td>-4.170000</td>\n",
              "      <td>-24.900000</td>\n",
              "      <td>0.000000</td>\n",
              "    </tr>\n",
              "    <tr>\n",
              "      <th>25%</th>\n",
              "      <td>26.000000</td>\n",
              "      <td>-0.700000</td>\n",
              "      <td>1.000000</td>\n",
              "      <td>0.630000</td>\n",
              "      <td>9.600000</td>\n",
              "      <td>-0.230000</td>\n",
              "      <td>22.300000</td>\n",
              "      <td>22.588684</td>\n",
              "      <td>0.068000</td>\n",
              "      <td>0.320000</td>\n",
              "      <td>1.226667</td>\n",
              "      <td>29.300000</td>\n",
              "      <td>-0.400000</td>\n",
              "      <td>11.350000</td>\n",
              "      <td>53.769937</td>\n",
              "    </tr>\n",
              "    <tr>\n",
              "      <th>50%</th>\n",
              "      <td>35.000000</td>\n",
              "      <td>0.000000</td>\n",
              "      <td>1.100000</td>\n",
              "      <td>0.751700</td>\n",
              "      <td>14.100000</td>\n",
              "      <td>0.200000</td>\n",
              "      <td>23.136667</td>\n",
              "      <td>23.358438</td>\n",
              "      <td>0.100000</td>\n",
              "      <td>0.500000</td>\n",
              "      <td>1.550667</td>\n",
              "      <td>43.280000</td>\n",
              "      <td>-0.030000</td>\n",
              "      <td>18.200000</td>\n",
              "      <td>68.795799</td>\n",
              "    </tr>\n",
              "    <tr>\n",
              "      <th>75%</th>\n",
              "      <td>45.000000</td>\n",
              "      <td>1.000000</td>\n",
              "      <td>1.241468</td>\n",
              "      <td>0.880000</td>\n",
              "      <td>17.337500</td>\n",
              "      <td>0.600000</td>\n",
              "      <td>23.900000</td>\n",
              "      <td>24.250000</td>\n",
              "      <td>0.140000</td>\n",
              "      <td>38.815000</td>\n",
              "      <td>1.985333</td>\n",
              "      <td>55.500125</td>\n",
              "      <td>0.260000</td>\n",
              "      <td>26.600000</td>\n",
              "      <td>76.950000</td>\n",
              "    </tr>\n",
              "    <tr>\n",
              "      <th>max</th>\n",
              "      <td>1996.000000</td>\n",
              "      <td>3.000000</td>\n",
              "      <td>4.500000</td>\n",
              "      <td>2.130000</td>\n",
              "      <td>26.896750</td>\n",
              "      <td>11.700000</td>\n",
              "      <td>31.000000</td>\n",
              "      <td>37.445000</td>\n",
              "      <td>1.880000</td>\n",
              "      <td>102.450000</td>\n",
              "      <td>27.700000</td>\n",
              "      <td>79.300000</td>\n",
              "      <td>2.500000</td>\n",
              "      <td>32.350000</td>\n",
              "      <td>100.350000</td>\n",
              "    </tr>\n",
              "  </tbody>\n",
              "</table>\n",
              "</div>\n",
              "      <button class=\"colab-df-convert\" onclick=\"convertToInteractive('df-57d8f3b5-d78e-4310-aaeb-92ad13ec95ef')\"\n",
              "              title=\"Convert this dataframe to an interactive table.\"\n",
              "              style=\"display:none;\">\n",
              "        \n",
              "  <svg xmlns=\"http://www.w3.org/2000/svg\" height=\"24px\"viewBox=\"0 0 24 24\"\n",
              "       width=\"24px\">\n",
              "    <path d=\"M0 0h24v24H0V0z\" fill=\"none\"/>\n",
              "    <path d=\"M18.56 5.44l.94 2.06.94-2.06 2.06-.94-2.06-.94-.94-2.06-.94 2.06-2.06.94zm-11 1L8.5 8.5l.94-2.06 2.06-.94-2.06-.94L8.5 2.5l-.94 2.06-2.06.94zm10 10l.94 2.06.94-2.06 2.06-.94-2.06-.94-.94-2.06-.94 2.06-2.06.94z\"/><path d=\"M17.41 7.96l-1.37-1.37c-.4-.4-.92-.59-1.43-.59-.52 0-1.04.2-1.43.59L10.3 9.45l-7.72 7.72c-.78.78-.78 2.05 0 2.83L4 21.41c.39.39.9.59 1.41.59.51 0 1.02-.2 1.41-.59l7.78-7.78 2.81-2.81c.8-.78.8-2.07 0-2.86zM5.41 20L4 18.59l7.72-7.72 1.47 1.35L5.41 20z\"/>\n",
              "  </svg>\n",
              "      </button>\n",
              "      \n",
              "  <style>\n",
              "    .colab-df-container {\n",
              "      display:flex;\n",
              "      flex-wrap:wrap;\n",
              "      gap: 12px;\n",
              "    }\n",
              "\n",
              "    .colab-df-convert {\n",
              "      background-color: #E8F0FE;\n",
              "      border: none;\n",
              "      border-radius: 50%;\n",
              "      cursor: pointer;\n",
              "      display: none;\n",
              "      fill: #1967D2;\n",
              "      height: 32px;\n",
              "      padding: 0 0 0 0;\n",
              "      width: 32px;\n",
              "    }\n",
              "\n",
              "    .colab-df-convert:hover {\n",
              "      background-color: #E2EBFA;\n",
              "      box-shadow: 0px 1px 2px rgba(60, 64, 67, 0.3), 0px 1px 3px 1px rgba(60, 64, 67, 0.15);\n",
              "      fill: #174EA6;\n",
              "    }\n",
              "\n",
              "    [theme=dark] .colab-df-convert {\n",
              "      background-color: #3B4455;\n",
              "      fill: #D2E3FC;\n",
              "    }\n",
              "\n",
              "    [theme=dark] .colab-df-convert:hover {\n",
              "      background-color: #434B5C;\n",
              "      box-shadow: 0px 1px 3px 1px rgba(0, 0, 0, 0.15);\n",
              "      filter: drop-shadow(0px 1px 2px rgba(0, 0, 0, 0.3));\n",
              "      fill: #FFFFFF;\n",
              "    }\n",
              "  </style>\n",
              "\n",
              "      <script>\n",
              "        const buttonEl =\n",
              "          document.querySelector('#df-57d8f3b5-d78e-4310-aaeb-92ad13ec95ef button.colab-df-convert');\n",
              "        buttonEl.style.display =\n",
              "          google.colab.kernel.accessAllowed ? 'block' : 'none';\n",
              "\n",
              "        async function convertToInteractive(key) {\n",
              "          const element = document.querySelector('#df-57d8f3b5-d78e-4310-aaeb-92ad13ec95ef');\n",
              "          const dataTable =\n",
              "            await google.colab.kernel.invokeFunction('convertToInteractive',\n",
              "                                                     [key], {});\n",
              "          if (!dataTable) return;\n",
              "\n",
              "          const docLinkHtml = 'Like what you see? Visit the ' +\n",
              "            '<a target=\"_blank\" href=https://colab.research.google.com/notebooks/data_table.ipynb>data table notebook</a>'\n",
              "            + ' to learn more about interactive tables.';\n",
              "          element.innerHTML = '';\n",
              "          dataTable['output_type'] = 'display_data';\n",
              "          await google.colab.output.renderOutput(dataTable, element);\n",
              "          const docLink = document.createElement('div');\n",
              "          docLink.innerHTML = docLinkHtml;\n",
              "          element.appendChild(docLink);\n",
              "        }\n",
              "      </script>\n",
              "    </div>\n",
              "  </div>\n",
              "  "
            ]
          },
          "metadata": {},
          "execution_count": 377
        }
      ]
    },
    {
      "cell_type": "markdown",
      "source": [
        "# **Q2**"
      ],
      "metadata": {
        "id": "okSFhaySqWK5"
      }
    },
    {
      "cell_type": "code",
      "source": [
        "for i in df2:\n",
        "  df2.hist(i)"
      ],
      "metadata": {
        "id": "qzubZX6_qeVC",
        "colab": {
          "base_uri": "https://localhost:8080/",
          "height": 1000
        },
        "outputId": "05b02120-b3de-43c7-d733-19e5920e44ff"
      },
      "execution_count": 378,
      "outputs": [
        {
          "output_type": "display_data",
          "data": {
            "text/plain": [
              "<Figure size 432x288 with 1 Axes>"
            ],
            "image/png": "[encoded data removed]"
          },
          "metadata": {
            "needs_background": "light"
          }
        },
        {
          "output_type": "display_data",
          "data": {
            "text/plain": [
              "<Figure size 432x288 with 1 Axes>"
            ],
            "image/png": "[encoded data removed]"
          },
          "metadata": {
            "needs_background": "light"
          }
        },
        {
          "output_type": "display_data",
          "data": {
            "text/plain": [
              "<Figure size 432x288 with 1 Axes>"
            ],
            "image/png": "[encoded data removed]"
          },
          "metadata": {
            "needs_background": "light"
          }
        },
        {
          "output_type": "display_data",
          "data": {
            "text/plain": [
              "<Figure size 432x288 with 1 Axes>"
            ],
            "image/png": "[encoded data removed]"
          },
          "metadata": {
            "needs_background": "light"
          }
        },
        {
          "output_type": "display_data",
          "data": {
            "text/plain": [
              "<Figure size 432x288 with 1 Axes>"
            ],
            "image/png": "[encoded data removed]"
          },
          "metadata": {
            "needs_background": "light"
          }
        },
        {
          "output_type": "display_data",
          "data": {
            "text/plain": [
              "<Figure size 432x288 with 1 Axes>"
            ],
            "image/png": "[encoded data removed]"
          },
          "metadata": {
            "needs_background": "light"
          }
        },
        {
          "output_type": "display_data",
          "data": {
            "text/plain": [
              "<Figure size 432x288 with 1 Axes>"
            ],
            "image/png": "[encoded data removed]"
          },
          "metadata": {
            "needs_background": "light"
          }
        },
        {
          "output_type": "display_data",
          "data": {
            "text/plain": [
              "<Figure size 432x288 with 1 Axes>"
            ],
            "image/png": "[encoded data removed]"
          },
          "metadata": {
            "needs_background": "light"
          }
        },
        {
          "output_type": "display_data",
          "data": {
            "text/plain": [
              "<Figure size 432x288 with 1 Axes>"
            ],
            "image/png": "[encoded data removed]"
          },
          "metadata": {
            "needs_background": "light"
          }
        },
        {
          "output_type": "display_data",
          "data": {
            "text/plain": [
              "<Figure size 432x288 with 1 Axes>"
            ],
            "image/png": "[encoded data removed]"
          },
          "metadata": {
            "needs_background": "light"
          }
        },
        {
          "output_type": "display_data",
          "data": {
            "text/plain": [
              "<Figure size 432x288 with 1 Axes>"
            ],
            "image/png": "[encoded data removed]"
          },
          "metadata": {
            "needs_background": "light"
          }
        },
        {
          "output_type": "display_data",
          "data": {
            "text/plain": [
              "<Figure size 432x288 with 1 Axes>"
            ],
            "image/png": "[encoded data removed]"
          },
          "metadata": {
            "needs_background": "light"
          }
        },
        {
          "output_type": "display_data",
          "data": {
            "text/plain": [
              "<Figure size 432x288 with 1 Axes>"
            ],
            "image/png": "[encoded data removed]"
          },
          "metadata": {
            "needs_background": "light"
          }
        },
        {
          "output_type": "display_data",
          "data": {
            "text/plain": [
              "<Figure size 432x288 with 1 Axes>"
            ],
            "image/png": "[encoded data removed]"
          },
          "metadata": {
            "needs_background": "light"
          }
        },
        {
          "output_type": "display_data",
          "data": {
            "text/plain": [
              "<Figure size 432x288 with 1 Axes>"
            ],
            "image/png": "[encoded data removed]"
          },
          "metadata": {
            "needs_background": "light"
          }
        }
      ]
    },
    {
      "cell_type": "code",
      "source": [
        "for i in df2:\n",
        "  sns.distplot(a=df2[i])\n",
        "  plt.show()"
      ],
      "metadata": {
        "id": "Wzbmx1bBrzn9",
        "colab": {
          "base_uri": "https://localhost:8080/",
          "height": 1000
        },
        "outputId": "e8c17f4b-03fb-460b-9805-ac45c602b697"
      },
      "execution_count": 379,
      "outputs": [
        {
          "output_type": "stream",
          "name": "stderr",
          "text": [
            "/usr/local/lib/python3.8/dist-packages/seaborn/distributions.py:2619: FutureWarning: `distplot` is a deprecated function and will be removed in a future version. Please adapt your code to use either `displot` (a figure-level function with similar flexibility) or `histplot` (an axes-level function for histograms).\n",
            "  warnings.warn(msg, FutureWarning)\n"
          ]
        },
        {
          "output_type": "display_data",
          "data": {
            "text/plain": [
              "<Figure size 432x288 with 1 Axes>"
            ],
            "image/png": "[encoded data removed]"
          },
          "metadata": {
            "needs_background": "light"
          }
        },
        {
          "output_type": "stream",
          "name": "stderr",
          "text": [
            "/usr/local/lib/python3.8/dist-packages/seaborn/distributions.py:2619: FutureWarning: `distplot` is a deprecated function and will be removed in a future version. Please adapt your code to use either `displot` (a figure-level function with similar flexibility) or `histplot` (an axes-level function for histograms).\n",
            "  warnings.warn(msg, FutureWarning)\n"
          ]
        },
        {
          "output_type": "display_data",
          "data": {
            "text/plain": [
              "<Figure size 432x288 with 1 Axes>"
            ],
            "image/png": "[encoded data removed]"
          },
          "metadata": {
            "needs_background": "light"
          }
        },
        {
          "output_type": "stream",
          "name": "stderr",
          "text": [
            "/usr/local/lib/python3.8/dist-packages/seaborn/distributions.py:2619: FutureWarning: `distplot` is a deprecated function and will be removed in a future version. Please adapt your code to use either `displot` (a figure-level function with similar flexibility) or `histplot` (an axes-level function for histograms).\n",
            "  warnings.warn(msg, FutureWarning)\n"
          ]
        },
        {
          "output_type": "display_data",
          "data": {
            "text/plain": [
              "<Figure size 432x288 with 1 Axes>"
            ],
            "image/png": "[encoded data removed]"
          },
          "metadata": {
            "needs_background": "light"
          }
        },
        {
          "output_type": "stream",
          "name": "stderr",
          "text": [
            "/usr/local/lib/python3.8/dist-packages/seaborn/distributions.py:2619: FutureWarning: `distplot` is a deprecated function and will be removed in a future version. Please adapt your code to use either `displot` (a figure-level function with similar flexibility) or `histplot` (an axes-level function for histograms).\n",
            "  warnings.warn(msg, FutureWarning)\n"
          ]
        },
        {
          "output_type": "display_data",
          "data": {
            "text/plain": [
              "<Figure size 432x288 with 1 Axes>"
            ],
            "image/png": "[encoded data removed]"
          },
          "metadata": {
            "needs_background": "light"
          }
        },
        {
          "output_type": "stream",
          "name": "stderr",
          "text": [
            "/usr/local/lib/python3.8/dist-packages/seaborn/distributions.py:2619: FutureWarning: `distplot` is a deprecated function and will be removed in a future version. Please adapt your code to use either `displot` (a figure-level function with similar flexibility) or `histplot` (an axes-level function for histograms).\n",
            "  warnings.warn(msg, FutureWarning)\n"
          ]
        },
        {
          "output_type": "display_data",
          "data": {
            "text/plain": [
              "<Figure size 432x288 with 1 Axes>"
            ],
            "image/png": "[encoded data removed]"
          },
          "metadata": {
            "needs_background": "light"
          }
        },
        {
          "output_type": "stream",
          "name": "stderr",
          "text": [
            "/usr/local/lib/python3.8/dist-packages/seaborn/distributions.py:2619: FutureWarning: `distplot` is a deprecated function and will be removed in a future version. Please adapt your code to use either `displot` (a figure-level function with similar flexibility) or `histplot` (an axes-level function for histograms).\n",
            "  warnings.warn(msg, FutureWarning)\n"
          ]
        },
        {
          "output_type": "display_data",
          "data": {
            "text/plain": [
              "<Figure size 432x288 with 1 Axes>"
            ],
            "image/png": "[encoded data removed]"
          },
          "metadata": {
            "needs_background": "light"
          }
        },
        {
          "output_type": "stream",
          "name": "stderr",
          "text": [
            "/usr/local/lib/python3.8/dist-packages/seaborn/distributions.py:2619: FutureWarning: `distplot` is a deprecated function and will be removed in a future version. Please adapt your code to use either `displot` (a figure-level function with similar flexibility) or `histplot` (an axes-level function for histograms).\n",
            "  warnings.warn(msg, FutureWarning)\n"
          ]
        },
        {
          "output_type": "display_data",
          "data": {
            "text/plain": [
              "<Figure size 432x288 with 1 Axes>"
            ],
            "image/png": "[encoded data removed]"
          },
          "metadata": {
            "needs_background": "light"
          }
        },
        {
          "output_type": "stream",
          "name": "stderr",
          "text": [
            "/usr/local/lib/python3.8/dist-packages/seaborn/distributions.py:2619: FutureWarning: `distplot` is a deprecated function and will be removed in a future version. Please adapt your code to use either `displot` (a figure-level function with similar flexibility) or `histplot` (an axes-level function for histograms).\n",
            "  warnings.warn(msg, FutureWarning)\n"
          ]
        },
        {
          "output_type": "display_data",
          "data": {
            "text/plain": [
              "<Figure size 432x288 with 1 Axes>"
            ],
            "image/png": "[encoded data removed]"
          },
          "metadata": {
            "needs_background": "light"
          }
        },
        {
          "output_type": "stream",
          "name": "stderr",
          "text": [
            "/usr/local/lib/python3.8/dist-packages/seaborn/distributions.py:2619: FutureWarning: `distplot` is a deprecated function and will be removed in a future version. Please adapt your code to use either `displot` (a figure-level function with similar flexibility) or `histplot` (an axes-level function for histograms).\n",
            "  warnings.warn(msg, FutureWarning)\n"
          ]
        },
        {
          "output_type": "display_data",
          "data": {
            "text/plain": [
              "<Figure size 432x288 with 1 Axes>"
            ],
            "image/png": "[encoded data removed]"
          },
          "metadata": {
            "needs_background": "light"
          }
        },
        {
          "output_type": "stream",
          "name": "stderr",
          "text": [
            "/usr/local/lib/python3.8/dist-packages/seaborn/distributions.py:2619: FutureWarning: `distplot` is a deprecated function and will be removed in a future version. Please adapt your code to use either `displot` (a figure-level function with similar flexibility) or `histplot` (an axes-level function for histograms).\n",
            "  warnings.warn(msg, FutureWarning)\n"
          ]
        },
        {
          "output_type": "display_data",
          "data": {
            "text/plain": [
              "<Figure size 432x288 with 1 Axes>"
            ],
            "image/png": "[encoded data removed]"
          },
          "metadata": {
            "needs_background": "light"
          }
        },
        {
          "output_type": "stream",
          "name": "stderr",
          "text": [
            "/usr/local/lib/python3.8/dist-packages/seaborn/distributions.py:2619: FutureWarning: `distplot` is a deprecated function and will be removed in a future version. Please adapt your code to use either `displot` (a figure-level function with similar flexibility) or `histplot` (an axes-level function for histograms).\n",
            "  warnings.warn(msg, FutureWarning)\n"
          ]
        },
        {
          "output_type": "display_data",
          "data": {
            "text/plain": [
              "<Figure size 432x288 with 1 Axes>"
            ],
            "image/png": "[encoded data removed]"
          },
          "metadata": {
            "needs_background": "light"
          }
        },
        {
          "output_type": "stream",
          "name": "stderr",
          "text": [
            "/usr/local/lib/python3.8/dist-packages/seaborn/distributions.py:2619: FutureWarning: `distplot` is a deprecated function and will be removed in a future version. Please adapt your code to use either `displot` (a figure-level function with similar flexibility) or `histplot` (an axes-level function for histograms).\n",
            "  warnings.warn(msg, FutureWarning)\n"
          ]
        },
        {
          "output_type": "display_data",
          "data": {
            "text/plain": [
              "<Figure size 432x288 with 1 Axes>"
            ],
            "image/png": "[encoded data removed]"
          },
          "metadata": {
            "needs_background": "light"
          }
        },
        {
          "output_type": "stream",
          "name": "stderr",
          "text": [
            "/usr/local/lib/python3.8/dist-packages/seaborn/distributions.py:2619: FutureWarning: `distplot` is a deprecated function and will be removed in a future version. Please adapt your code to use either `displot` (a figure-level function with similar flexibility) or `histplot` (an axes-level function for histograms).\n",
            "  warnings.warn(msg, FutureWarning)\n"
          ]
        },
        {
          "output_type": "display_data",
          "data": {
            "text/plain": [
              "<Figure size 432x288 with 1 Axes>"
            ],
            "image/png": "[encoded data removed]"
          },
          "metadata": {
            "needs_background": "light"
          }
        },
        {
          "output_type": "stream",
          "name": "stderr",
          "text": [
            "/usr/local/lib/python3.8/dist-packages/seaborn/distributions.py:2619: FutureWarning: `distplot` is a deprecated function and will be removed in a future version. Please adapt your code to use either `displot` (a figure-level function with similar flexibility) or `histplot` (an axes-level function for histograms).\n",
            "  warnings.warn(msg, FutureWarning)\n"
          ]
        },
        {
          "output_type": "display_data",
          "data": {
            "text/plain": [
              "<Figure size 432x288 with 1 Axes>"
            ],
            "image/png": "[encoded data removed]"
          },
          "metadata": {
            "needs_background": "light"
          }
        },
        {
          "output_type": "stream",
          "name": "stderr",
          "text": [
            "/usr/local/lib/python3.8/dist-packages/seaborn/distributions.py:2619: FutureWarning: `distplot` is a deprecated function and will be removed in a future version. Please adapt your code to use either `displot` (a figure-level function with similar flexibility) or `histplot` (an axes-level function for histograms).\n",
            "  warnings.warn(msg, FutureWarning)\n"
          ]
        },
        {
          "output_type": "display_data",
          "data": {
            "text/plain": [
              "<Figure size 432x288 with 1 Axes>"
            ],
            "image/png": "[encoded data removed]"
          },
          "metadata": {
            "needs_background": "light"
          }
        }
      ]
    },
    {
      "cell_type": "code",
      "source": [
        "for i in df2:     \n",
        "    df2[i].plot(kind='box')\n",
        "    plt.show()"
      ],
      "metadata": {
        "id": "JuuLKYrN0AFr",
        "colab": {
          "base_uri": "https://localhost:8080/",
          "height": 1000
        },
        "outputId": "fb35471c-c3a7-425e-fd7e-eb9eeeb017b9"
      },
      "execution_count": 380,
      "outputs": [
        {
          "output_type": "display_data",
          "data": {
            "text/plain": [
              "<Figure size 432x288 with 1 Axes>"
            ],
            "image/png": "[encoded data removed]"
          },
          "metadata": {
            "needs_background": "light"
          }
        },
        {
          "output_type": "display_data",
          "data": {
            "text/plain": [
              "<Figure size 432x288 with 1 Axes>"
            ],
            "image/png": "[encoded data removed]"
          },
          "metadata": {
            "needs_background": "light"
          }
        },
        {
          "output_type": "display_data",
          "data": {
            "text/plain": [
              "<Figure size 432x288 with 1 Axes>"
            ],
            "image/png": "[encoded data removed]"
          },
          "metadata": {
            "needs_background": "light"
          }
        },
        {
          "output_type": "display_data",
          "data": {
            "text/plain": [
              "<Figure size 432x288 with 1 Axes>"
            ],
            "image/png": "[encoded data removed]"
          },
          "metadata": {
            "needs_background": "light"
          }
        },
        {
          "output_type": "display_data",
          "data": {
            "text/plain": [
              "<Figure size 432x288 with 1 Axes>"
            ],
            "image/png": "[encoded data removed]"
          },
          "metadata": {
            "needs_background": "light"
          }
        },
        {
          "output_type": "display_data",
          "data": {
            "text/plain": [
              "<Figure size 432x288 with 1 Axes>"
            ],
            "image/png": "[encoded data removed]"
          },
          "metadata": {
            "needs_background": "light"
          }
        },
        {
          "output_type": "display_data",
          "data": {
            "text/plain": [
              "<Figure size 432x288 with 1 Axes>"
            ],
            "image/png": "[encoded data removed]"
          },
          "metadata": {
            "needs_background": "light"
          }
        },
        {
          "output_type": "display_data",
          "data": {
            "text/plain": [
              "<Figure size 432x288 with 1 Axes>"
            ],
            "image/png": "[encoded data removed]"
          },
          "metadata": {
            "needs_background": "light"
          }
        },
        {
          "output_type": "display_data",
          "data": {
            "text/plain": [
              "<Figure size 432x288 with 1 Axes>"
            ],
            "image/png": "[encoded data removed]"
          },
          "metadata": {
            "needs_background": "light"
          }
        },
        {
          "output_type": "display_data",
          "data": {
            "text/plain": [
              "<Figure size 432x288 with 1 Axes>"
            ],
            "image/png": "[encoded data removed]"
          },
          "metadata": {
            "needs_background": "light"
          }
        },
        {
          "output_type": "display_data",
          "data": {
            "text/plain": [
              "<Figure size 432x288 with 1 Axes>"
            ],
            "image/png": "[encoded data removed]"
          },
          "metadata": {
            "needs_background": "light"
          }
        },
        {
          "output_type": "display_data",
          "data": {
            "text/plain": [
              "<Figure size 432x288 with 1 Axes>"
            ],
            "image/png": "[encoded data removed]"
          },
          "metadata": {
            "needs_background": "light"
          }
        },
        {
          "output_type": "display_data",
          "data": {
            "text/plain": [
              "<Figure size 432x288 with 1 Axes>"
            ],
            "image/png": "[encoded data removed]"
          },
          "metadata": {
            "needs_background": "light"
          }
        },
        {
          "output_type": "display_data",
          "data": {
            "text/plain": [
              "<Figure size 432x288 with 1 Axes>"
            ],
            "image/png": "[encoded data removed]"
          },
          "metadata": {
            "needs_background": "light"
          }
        },
        {
          "output_type": "display_data",
          "data": {
            "text/plain": [
              "<Figure size 432x288 with 1 Axes>"
            ],
            "image/png": "[encoded data removed]"
          },
          "metadata": {
            "needs_background": "light"
          }
        }
      ]
    },
    {
      "cell_type": "markdown",
      "source": [
        "# **Q3**"
      ],
      "metadata": {
        "id": "bPiQ3E1pvV0q"
      }
    },
    {
      "cell_type": "code",
      "source": [
        "df2['Age'] = df2['Age'].fillna(df2['Age'].median())\n",
        "print(df2['Age'])"
      ],
      "metadata": {
        "id": "LAn43uVYM2hC",
        "colab": {
          "base_uri": "https://localhost:8080/"
        },
        "outputId": "e23248f3-a59d-4d6f-f6d1-beb509ed9ed9"
      },
      "execution_count": 381,
      "outputs": [
        {
          "output_type": "stream",
          "name": "stdout",
          "text": [
            "0          35.0\n",
            "1          35.0\n",
            "2          35.0\n",
            "3          35.0\n",
            "4          35.0\n",
            "          ...  \n",
            "12561    1996.0\n",
            "12562    1996.0\n",
            "12563    1996.0\n",
            "12564    1996.0\n",
            "12565    1996.0\n",
            "Name: Age, Length: 12566, dtype: float64\n"
          ]
        }
      ]
    },
    {
      "cell_type": "code",
      "source": [
        "df2['AMV'] = df2['AMV'].fillna(df2['AMV'].mean())\n",
        "print(df2['AMV'])"
      ],
      "metadata": {
        "id": "3sWUQJQOjkpj",
        "colab": {
          "base_uri": "https://localhost:8080/"
        },
        "outputId": "5816b1e2-5632-4c58-8938-071a680fb1ed"
      },
      "execution_count": 382,
      "outputs": [
        {
          "output_type": "stream",
          "name": "stdout",
          "text": [
            "0        2.0\n",
            "1        2.0\n",
            "2        1.0\n",
            "3        3.0\n",
            "4        3.0\n",
            "        ... \n",
            "12561    1.0\n",
            "12562    1.0\n",
            "12563    1.0\n",
            "12564    1.0\n",
            "12565    1.0\n",
            "Name: AMV, Length: 12566, dtype: float64\n"
          ]
        }
      ]
    },
    {
      "cell_type": "code",
      "source": [
        "df2['Met'] = df2['Met'].fillna(df2['Met'].mean())\n",
        "print(df2['Met'])"
      ],
      "metadata": {
        "id": "R7ljbjvkB8Ug",
        "colab": {
          "base_uri": "https://localhost:8080/"
        },
        "outputId": "5daa0868-0057-4953-b8b1-4dc858203b9d"
      },
      "execution_count": 383,
      "outputs": [
        {
          "output_type": "stream",
          "name": "stdout",
          "text": [
            "0        2.1\n",
            "1        2.1\n",
            "2        2.1\n",
            "3        2.6\n",
            "4        3.0\n",
            "        ... \n",
            "12561    0.1\n",
            "12562    0.1\n",
            "12563    0.1\n",
            "12564    0.1\n",
            "12565    0.1\n",
            "Name: Met, Length: 12566, dtype: float64\n"
          ]
        }
      ]
    },
    {
      "cell_type": "code",
      "source": [
        "df2['Clo'] = df2['Clo'].fillna(df2['Clo'].mean())\n",
        "print(df2['Clo'])"
      ],
      "metadata": {
        "id": "fnDHRgbFCN_m",
        "colab": {
          "base_uri": "https://localhost:8080/"
        },
        "outputId": "ba9cc623-83f1-4389-a151-82322358eb41"
      },
      "execution_count": 384,
      "outputs": [
        {
          "output_type": "stream",
          "name": "stdout",
          "text": [
            "0        0.650000\n",
            "1        0.780000\n",
            "2        1.050000\n",
            "3        0.400000\n",
            "4        0.370000\n",
            "           ...   \n",
            "12561    0.778492\n",
            "12562    0.778492\n",
            "12563    0.778492\n",
            "12564    0.778492\n",
            "12565    0.778492\n",
            "Name: Clo, Length: 12566, dtype: float64\n"
          ]
        }
      ]
    },
    {
      "cell_type": "code",
      "source": [
        "df2['Dewpt'] = df2['Dewpt'].fillna(df2['Dewpt'].mean())\n",
        "print(df2['Dewpt'])"
      ],
      "metadata": {
        "id": "cJkwQhnqRMcP",
        "colab": {
          "base_uri": "https://localhost:8080/"
        },
        "outputId": "b8b7b256-ed89-4347-aa61-c27ce001590c"
      },
      "execution_count": 385,
      "outputs": [
        {
          "output_type": "stream",
          "name": "stdout",
          "text": [
            "0        13.621447\n",
            "1        13.621447\n",
            "2        13.621447\n",
            "3        13.621447\n",
            "4        13.621447\n",
            "           ...    \n",
            "12561    22.122000\n",
            "12562    22.122000\n",
            "12563    22.122000\n",
            "12564    22.122000\n",
            "12565    22.122000\n",
            "Name: Dewpt, Length: 12566, dtype: float64\n"
          ]
        }
      ]
    },
    {
      "cell_type": "code",
      "source": [
        "df2.drop(['PlaneRadTemp', 'AirTurb' , 'Pa'], axis = 1, inplace = True)\n",
        "print(df2.columns)"
      ],
      "metadata": {
        "id": "jXEmTaj2RmYp",
        "colab": {
          "base_uri": "https://localhost:8080/"
        },
        "outputId": "c316301a-9751-481a-eeb3-74b6e7715805"
      },
      "execution_count": 386,
      "outputs": [
        {
          "output_type": "stream",
          "name": "stdout",
          "text": [
            "Index(['Age', 'AMV', 'Met', 'Clo', 'Dewpt', 'Ta', 'Tmrt', 'Vel', 'Rh', 'PMV',\n",
            "       'TaOutdoor', 'RhOutdoor'],\n",
            "      dtype='object')\n"
          ]
        }
      ]
    },
    {
      "cell_type": "code",
      "source": [
        "df2['Ta'] = df2['Ta'].fillna(df2['Ta'].mean())\n",
        "print(df2['Ta'])"
      ],
      "metadata": {
        "id": "Aj57zf8XSvML",
        "colab": {
          "base_uri": "https://localhost:8080/"
        },
        "outputId": "d4216641-3f4d-4168-8c8f-7d46ee23a7d1"
      },
      "execution_count": 387,
      "outputs": [
        {
          "output_type": "stream",
          "name": "stdout",
          "text": [
            "0        19.100000\n",
            "1        19.100000\n",
            "2        20.000000\n",
            "3        21.000000\n",
            "4        23.000000\n",
            "           ...    \n",
            "12561    22.142437\n",
            "12562    22.142437\n",
            "12563    22.142437\n",
            "12564    22.142437\n",
            "12565    22.142437\n",
            "Name: Ta, Length: 12566, dtype: float64\n"
          ]
        }
      ]
    },
    {
      "cell_type": "code",
      "source": [
        "df2['Tmrt'] = df2['Tmrt'].fillna(df2['Tmrt'].mean())\n",
        "print(df2['Tmrt'])"
      ],
      "metadata": {
        "id": "HrAstNnqS8PL",
        "colab": {
          "base_uri": "https://localhost:8080/"
        },
        "outputId": "671085aa-5277-4cb7-e3a8-5edff7047dfa"
      },
      "execution_count": 388,
      "outputs": [
        {
          "output_type": "stream",
          "name": "stdout",
          "text": [
            "0        19.629472\n",
            "1        19.629472\n",
            "2        19.046655\n",
            "3        20.153116\n",
            "4        21.942458\n",
            "           ...    \n",
            "12561    23.450261\n",
            "12562    23.450261\n",
            "12563    23.450261\n",
            "12564    23.450261\n",
            "12565    23.450261\n",
            "Name: Tmrt, Length: 12566, dtype: float64\n"
          ]
        }
      ]
    },
    {
      "cell_type": "code",
      "source": [
        "df2['Vel'] = df2['Vel'].fillna(df2['Vel'].mean())\n",
        "print(df2['Vel'])"
      ],
      "metadata": {
        "id": "ios-ebyjTKDp",
        "colab": {
          "base_uri": "https://localhost:8080/"
        },
        "outputId": "fd09bfc1-e7be-4818-9248-33ed9a02dc8f"
      },
      "execution_count": 389,
      "outputs": [
        {
          "output_type": "stream",
          "name": "stdout",
          "text": [
            "0        0.060000\n",
            "1        0.060000\n",
            "2        0.060000\n",
            "3        0.060000\n",
            "4        0.060000\n",
            "           ...   \n",
            "12561    0.112439\n",
            "12562    0.112439\n",
            "12563    0.112439\n",
            "12564    0.112439\n",
            "12565    0.112439\n",
            "Name: Vel, Length: 12566, dtype: float64\n"
          ]
        }
      ]
    },
    {
      "cell_type": "code",
      "source": [
        "df2['Rh'] = df2['Rh'].fillna(df2['Rh'].mean())\n",
        "print(df2['Rh'])"
      ],
      "metadata": {
        "id": "TM1a4OIXTYju",
        "colab": {
          "base_uri": "https://localhost:8080/"
        },
        "outputId": "bffac67c-6a2a-4205-a4b6-b30c1d0c1e53"
      },
      "execution_count": 390,
      "outputs": [
        {
          "output_type": "stream",
          "name": "stdout",
          "text": [
            "0        51.25\n",
            "1        51.30\n",
            "2        51.90\n",
            "3        49.90\n",
            "4        45.60\n",
            "         ...  \n",
            "12561    22.90\n",
            "12562    21.40\n",
            "12563    23.10\n",
            "12564    22.00\n",
            "12565    20.30\n",
            "Name: Rh, Length: 12566, dtype: float64\n"
          ]
        }
      ]
    },
    {
      "cell_type": "code",
      "source": [
        "df2['PMV'] = df2['PMV'].fillna(df2['PMV'].mean())\n",
        "print(df2['PMV'])"
      ],
      "metadata": {
        "id": "CttBi3JMT60O",
        "colab": {
          "base_uri": "https://localhost:8080/"
        },
        "outputId": "3b427337-7c9c-4e70-9345-e605db90d0eb"
      },
      "execution_count": 391,
      "outputs": [
        {
          "output_type": "stream",
          "name": "stdout",
          "text": [
            "0        0.340000\n",
            "1        0.510000\n",
            "2        0.800000\n",
            "3        0.760000\n",
            "4        1.470000\n",
            "           ...   \n",
            "12561   -0.073676\n",
            "12562   -0.073676\n",
            "12563   -0.073676\n",
            "12564   -0.073676\n",
            "12565   -0.073676\n",
            "Name: PMV, Length: 12566, dtype: float64\n"
          ]
        }
      ]
    },
    {
      "cell_type": "code",
      "source": [
        "df2['TaOutdoor'] = df2['TaOutdoor'].fillna(df2['TaOutdoor'].mean())\n",
        "print(df2['TaOutdoor'])"
      ],
      "metadata": {
        "id": "52SxsqWSUOcE",
        "colab": {
          "base_uri": "https://localhost:8080/"
        },
        "outputId": "aa18e3ff-58a5-439e-92d7-112f76b3106f"
      },
      "execution_count": 392,
      "outputs": [
        {
          "output_type": "stream",
          "name": "stdout",
          "text": [
            "0        11.550000\n",
            "1        11.550000\n",
            "2        11.550000\n",
            "3        11.550000\n",
            "4        11.550000\n",
            "           ...    \n",
            "12561    17.174585\n",
            "12562    17.174585\n",
            "12563    17.174585\n",
            "12564    17.174585\n",
            "12565    17.174585\n",
            "Name: TaOutdoor, Length: 12566, dtype: float64\n"
          ]
        }
      ]
    },
    {
      "cell_type": "code",
      "source": [
        "df2['RhOutdoor'] = df2['RhOutdoor'].fillna(df2['RhOutdoor'].mean())\n",
        "print(df2['RhOutdoor'])"
      ],
      "metadata": {
        "id": "YVP9GRZxUaoV",
        "colab": {
          "base_uri": "https://localhost:8080/"
        },
        "outputId": "925f6097-f732-437e-c25d-5142f4f43212"
      },
      "execution_count": 393,
      "outputs": [
        {
          "output_type": "stream",
          "name": "stdout",
          "text": [
            "0        79.0\n",
            "1        79.0\n",
            "2        79.0\n",
            "3        79.0\n",
            "4        79.0\n",
            "         ... \n",
            "12561     0.0\n",
            "12562     0.0\n",
            "12563     0.0\n",
            "12564     0.0\n",
            "12565     0.0\n",
            "Name: RhOutdoor, Length: 12566, dtype: float64\n"
          ]
        }
      ]
    },
    {
      "cell_type": "code",
      "source": [
        "print(df2.columns)"
      ],
      "metadata": {
        "id": "me1OuQTASrWH",
        "colab": {
          "base_uri": "https://localhost:8080/"
        },
        "outputId": "a3bb1500-ab29-4c83-cef1-3234bdaac9c0"
      },
      "execution_count": 394,
      "outputs": [
        {
          "output_type": "stream",
          "name": "stdout",
          "text": [
            "Index(['Age', 'AMV', 'Met', 'Clo', 'Dewpt', 'Ta', 'Tmrt', 'Vel', 'Rh', 'PMV',\n",
            "       'TaOutdoor', 'RhOutdoor'],\n",
            "      dtype='object')\n"
          ]
        }
      ]
    },
    {
      "cell_type": "markdown",
      "source": [
        "# **Q4**"
      ],
      "metadata": {
        "id": "OMprpUlt4HI5"
      }
    },
    {
      "cell_type": "code",
      "source": [
        "median = df2.loc[df2['Age']<100, 'Age'].median()\n",
        "df2[\"Age\"] = df2[\"Age\"].mask(df2[\"Age\"] >100, median)\n",
        "print(df2[\"Age\"])\n",
        "sns.boxplot(df2['Age'])"
      ],
      "metadata": {
        "id": "m4g2X-7duAbw",
        "colab": {
          "base_uri": "https://localhost:8080/",
          "height": 559
        },
        "outputId": "2205a9a1-1151-4849-fd0d-52e0eab68bc2"
      },
      "execution_count": 395,
      "outputs": [
        {
          "output_type": "stream",
          "name": "stdout",
          "text": [
            "0        35.0\n",
            "1        35.0\n",
            "2        35.0\n",
            "3        35.0\n",
            "4        35.0\n",
            "         ... \n",
            "12561    35.0\n",
            "12562    35.0\n",
            "12563    35.0\n",
            "12564    35.0\n",
            "12565    35.0\n",
            "Name: Age, Length: 12566, dtype: float64\n"
          ]
        },
        {
          "output_type": "stream",
          "name": "stderr",
          "text": [
            "/usr/local/lib/python3.8/dist-packages/seaborn/_decorators.py:36: FutureWarning: Pass the following variable as a keyword arg: x. From version 0.12, the only valid positional argument will be `data`, and passing other arguments without an explicit keyword will result in an error or misinterpretation.\n",
            "  warnings.warn(\n"
          ]
        },
        {
          "output_type": "execute_result",
          "data": {
            "text/plain": [
              "<matplotlib.axes._subplots.AxesSubplot at 0x7fc44a7bedc0>"
            ]
          },
          "metadata": {},
          "execution_count": 395
        },
        {
          "output_type": "display_data",
          "data": {
            "text/plain": [
              "<Figure size 432x288 with 1 Axes>"
            ],
            "image/png": "[encoded data removed]"
          },
          "metadata": {
            "needs_background": "light"
          }
        }
      ]
    },
    {
      "cell_type": "code",
      "source": [
        "import numpy as np\n",
        "for i in df2:\n",
        "  Q1 = df2[i].quantile(0.25)\n",
        "  Q3 = df2[i].quantile(0.75)\n",
        "  IQR = Q3 - Q1\n",
        "  whisker_width = 1.5\n",
        "  lower_whisker = Q1 - (whisker_width*IQR)\n",
        "  upper_whisker = Q3 + (whisker_width*IQR)\n",
        "  df2[i]=np.where(df2[i]>upper_whisker,upper_whisker,np.where(df2[i]<lower_whisker,lower_whisker,df2[i]))\n",
        "  print(df2[i])\n",
        "  sns.boxplot(df2[i])\n",
        "  plt.show()"
      ],
      "metadata": {
        "id": "br049R49fVUP",
        "colab": {
          "base_uri": "https://localhost:8080/",
          "height": 1000
        },
        "outputId": "8ff02331-79f5-45b0-91b1-b4b969086661"
      },
      "execution_count": 396,
      "outputs": [
        {
          "output_type": "stream",
          "name": "stdout",
          "text": [
            "0        35.0\n",
            "1        35.0\n",
            "2        35.0\n",
            "3        35.0\n",
            "4        35.0\n",
            "         ... \n",
            "12561    35.0\n",
            "12562    35.0\n",
            "12563    35.0\n",
            "12564    35.0\n",
            "12565    35.0\n",
            "Name: Age, Length: 12566, dtype: float64\n"
          ]
        },
        {
          "output_type": "stream",
          "name": "stderr",
          "text": [
            "/usr/local/lib/python3.8/dist-packages/seaborn/_decorators.py:36: FutureWarning: Pass the following variable as a keyword arg: x. From version 0.12, the only valid positional argument will be `data`, and passing other arguments without an explicit keyword will result in an error or misinterpretation.\n",
            "  warnings.warn(\n"
          ]
        },
        {
          "output_type": "display_data",
          "data": {
            "text/plain": [
              "<Figure size 432x288 with 1 Axes>"
            ],
            "image/png": "[encoded data removed]"
          },
          "metadata": {
            "needs_background": "light"
          }
        },
        {
          "output_type": "stream",
          "name": "stdout",
          "text": [
            "0        2.0\n",
            "1        2.0\n",
            "2        1.0\n",
            "3        3.0\n",
            "4        3.0\n",
            "        ... \n",
            "12561    1.0\n",
            "12562    1.0\n",
            "12563    1.0\n",
            "12564    1.0\n",
            "12565    1.0\n",
            "Name: AMV, Length: 12566, dtype: float64\n"
          ]
        },
        {
          "output_type": "stream",
          "name": "stderr",
          "text": [
            "/usr/local/lib/python3.8/dist-packages/seaborn/_decorators.py:36: FutureWarning: Pass the following variable as a keyword arg: x. From version 0.12, the only valid positional argument will be `data`, and passing other arguments without an explicit keyword will result in an error or misinterpretation.\n",
            "  warnings.warn(\n"
          ]
        },
        {
          "output_type": "display_data",
          "data": {
            "text/plain": [
              "<Figure size 432x288 with 1 Axes>"
            ],
            "image/png": "[encoded data removed]"
          },
          "metadata": {
            "needs_background": "light"
          }
        },
        {
          "output_type": "stream",
          "name": "stdout",
          "text": [
            "0        1.5\n",
            "1        1.5\n",
            "2        1.5\n",
            "3        1.5\n",
            "4        1.5\n",
            "        ... \n",
            "12561    0.7\n",
            "12562    0.7\n",
            "12563    0.7\n",
            "12564    0.7\n",
            "12565    0.7\n",
            "Name: Met, Length: 12566, dtype: float64\n"
          ]
        },
        {
          "output_type": "stream",
          "name": "stderr",
          "text": [
            "/usr/local/lib/python3.8/dist-packages/seaborn/_decorators.py:36: FutureWarning: Pass the following variable as a keyword arg: x. From version 0.12, the only valid positional argument will be `data`, and passing other arguments without an explicit keyword will result in an error or misinterpretation.\n",
            "  warnings.warn(\n"
          ]
        },
        {
          "output_type": "display_data",
          "data": {
            "text/plain": [
              "<Figure size 432x288 with 1 Axes>"
            ],
            "image/png": "[encoded data removed]"
          },
          "metadata": {
            "needs_background": "light"
          }
        },
        {
          "output_type": "stream",
          "name": "stdout",
          "text": [
            "0        0.650000\n",
            "1        0.780000\n",
            "2        1.050000\n",
            "3        0.400000\n",
            "4        0.370000\n",
            "           ...   \n",
            "12561    0.778492\n",
            "12562    0.778492\n",
            "12563    0.778492\n",
            "12564    0.778492\n",
            "12565    0.778492\n",
            "Name: Clo, Length: 12566, dtype: float64\n"
          ]
        },
        {
          "output_type": "stream",
          "name": "stderr",
          "text": [
            "/usr/local/lib/python3.8/dist-packages/seaborn/_decorators.py:36: FutureWarning: Pass the following variable as a keyword arg: x. From version 0.12, the only valid positional argument will be `data`, and passing other arguments without an explicit keyword will result in an error or misinterpretation.\n",
            "  warnings.warn(\n"
          ]
        },
        {
          "output_type": "display_data",
          "data": {
            "text/plain": [
              "<Figure size 432x288 with 1 Axes>"
            ],
            "image/png": "[encoded data removed]"
          },
          "metadata": {
            "needs_background": "light"
          }
        },
        {
          "output_type": "stream",
          "name": "stdout",
          "text": [
            "0        13.621447\n",
            "1        13.621447\n",
            "2        13.621447\n",
            "3        13.621447\n",
            "4        13.621447\n",
            "           ...    \n",
            "12561    22.122000\n",
            "12562    22.122000\n",
            "12563    22.122000\n",
            "12564    22.122000\n",
            "12565    22.122000\n",
            "Name: Dewpt, Length: 12566, dtype: float64\n"
          ]
        },
        {
          "output_type": "stream",
          "name": "stderr",
          "text": [
            "/usr/local/lib/python3.8/dist-packages/seaborn/_decorators.py:36: FutureWarning: Pass the following variable as a keyword arg: x. From version 0.12, the only valid positional argument will be `data`, and passing other arguments without an explicit keyword will result in an error or misinterpretation.\n",
            "  warnings.warn(\n"
          ]
        },
        {
          "output_type": "display_data",
          "data": {
            "text/plain": [
              "<Figure size 432x288 with 1 Axes>"
            ],
            "image/png": "[encoded data removed]"
          },
          "metadata": {
            "needs_background": "light"
          }
        },
        {
          "output_type": "stream",
          "name": "stdout",
          "text": [
            "0        19.900000\n",
            "1        19.900000\n",
            "2        20.000000\n",
            "3        21.000000\n",
            "4        23.000000\n",
            "           ...    \n",
            "12561    22.142437\n",
            "12562    22.142437\n",
            "12563    22.142437\n",
            "12564    22.142437\n",
            "12565    22.142437\n",
            "Name: Ta, Length: 12566, dtype: float64\n"
          ]
        },
        {
          "output_type": "stream",
          "name": "stderr",
          "text": [
            "/usr/local/lib/python3.8/dist-packages/seaborn/_decorators.py:36: FutureWarning: Pass the following variable as a keyword arg: x. From version 0.12, the only valid positional argument will be `data`, and passing other arguments without an explicit keyword will result in an error or misinterpretation.\n",
            "  warnings.warn(\n"
          ]
        },
        {
          "output_type": "display_data",
          "data": {
            "text/plain": [
              "<Figure size 432x288 with 1 Axes>"
            ],
            "image/png": "[encoded data removed]"
          },
          "metadata": {
            "needs_background": "light"
          }
        },
        {
          "output_type": "stream",
          "name": "stdout",
          "text": [
            "0        21.548174\n",
            "1        21.548174\n",
            "2        21.548174\n",
            "3        21.548174\n",
            "4        21.942458\n",
            "           ...    \n",
            "12561    23.450261\n",
            "12562    23.450261\n",
            "12563    23.450261\n",
            "12564    23.450261\n",
            "12565    23.450261\n",
            "Name: Tmrt, Length: 12566, dtype: float64\n"
          ]
        },
        {
          "output_type": "stream",
          "name": "stderr",
          "text": [
            "/usr/local/lib/python3.8/dist-packages/seaborn/_decorators.py:36: FutureWarning: Pass the following variable as a keyword arg: x. From version 0.12, the only valid positional argument will be `data`, and passing other arguments without an explicit keyword will result in an error or misinterpretation.\n",
            "  warnings.warn(\n"
          ]
        },
        {
          "output_type": "display_data",
          "data": {
            "text/plain": [
              "<Figure size 432x288 with 1 Axes>"
            ],
            "image/png": "[encoded data removed]"
          },
          "metadata": {
            "needs_background": "light"
          }
        },
        {
          "output_type": "stream",
          "name": "stdout",
          "text": [
            "0        0.060000\n",
            "1        0.060000\n",
            "2        0.060000\n",
            "3        0.060000\n",
            "4        0.060000\n",
            "           ...   \n",
            "12561    0.112439\n",
            "12562    0.112439\n",
            "12563    0.112439\n",
            "12564    0.112439\n",
            "12565    0.112439\n",
            "Name: Vel, Length: 12566, dtype: float64\n"
          ]
        },
        {
          "output_type": "stream",
          "name": "stderr",
          "text": [
            "/usr/local/lib/python3.8/dist-packages/seaborn/_decorators.py:36: FutureWarning: Pass the following variable as a keyword arg: x. From version 0.12, the only valid positional argument will be `data`, and passing other arguments without an explicit keyword will result in an error or misinterpretation.\n",
            "  warnings.warn(\n"
          ]
        },
        {
          "output_type": "display_data",
          "data": {
            "text/plain": [
              "<Figure size 432x288 with 1 Axes>"
            ],
            "image/png": "[encoded data removed]"
          },
          "metadata": {
            "needs_background": "light"
          }
        },
        {
          "output_type": "stream",
          "name": "stdout",
          "text": [
            "0        51.25\n",
            "1        51.30\n",
            "2        51.90\n",
            "3        49.90\n",
            "4        45.60\n",
            "         ...  \n",
            "12561    22.90\n",
            "12562    21.40\n",
            "12563    23.10\n",
            "12564    22.00\n",
            "12565    20.30\n",
            "Name: Rh, Length: 12566, dtype: float64\n"
          ]
        },
        {
          "output_type": "stream",
          "name": "stderr",
          "text": [
            "/usr/local/lib/python3.8/dist-packages/seaborn/_decorators.py:36: FutureWarning: Pass the following variable as a keyword arg: x. From version 0.12, the only valid positional argument will be `data`, and passing other arguments without an explicit keyword will result in an error or misinterpretation.\n",
            "  warnings.warn(\n"
          ]
        },
        {
          "output_type": "display_data",
          "data": {
            "text/plain": [
              "<Figure size 432x288 with 1 Axes>"
            ],
            "image/png": "[encoded data removed]"
          },
          "metadata": {
            "needs_background": "light"
          }
        },
        {
          "output_type": "stream",
          "name": "stdout",
          "text": [
            "0        0.340000\n",
            "1        0.510000\n",
            "2        0.800000\n",
            "3        0.760000\n",
            "4        1.155000\n",
            "           ...   \n",
            "12561   -0.073676\n",
            "12562   -0.073676\n",
            "12563   -0.073676\n",
            "12564   -0.073676\n",
            "12565   -0.073676\n",
            "Name: PMV, Length: 12566, dtype: float64\n"
          ]
        },
        {
          "output_type": "stream",
          "name": "stderr",
          "text": [
            "/usr/local/lib/python3.8/dist-packages/seaborn/_decorators.py:36: FutureWarning: Pass the following variable as a keyword arg: x. From version 0.12, the only valid positional argument will be `data`, and passing other arguments without an explicit keyword will result in an error or misinterpretation.\n",
            "  warnings.warn(\n"
          ]
        },
        {
          "output_type": "display_data",
          "data": {
            "text/plain": [
              "<Figure size 432x288 with 1 Axes>"
            ],
            "image/png": "[encoded data removed]"
          },
          "metadata": {
            "needs_background": "light"
          }
        },
        {
          "output_type": "stream",
          "name": "stdout",
          "text": [
            "0        11.550000\n",
            "1        11.550000\n",
            "2        11.550000\n",
            "3        11.550000\n",
            "4        11.550000\n",
            "           ...    \n",
            "12561    17.174585\n",
            "12562    17.174585\n",
            "12563    17.174585\n",
            "12564    17.174585\n",
            "12565    17.174585\n",
            "Name: TaOutdoor, Length: 12566, dtype: float64\n"
          ]
        },
        {
          "output_type": "stream",
          "name": "stderr",
          "text": [
            "/usr/local/lib/python3.8/dist-packages/seaborn/_decorators.py:36: FutureWarning: Pass the following variable as a keyword arg: x. From version 0.12, the only valid positional argument will be `data`, and passing other arguments without an explicit keyword will result in an error or misinterpretation.\n",
            "  warnings.warn(\n"
          ]
        },
        {
          "output_type": "display_data",
          "data": {
            "text/plain": [
              "<Figure size 432x288 with 1 Axes>"
            ],
            "image/png": "[encoded data removed]"
          },
          "metadata": {
            "needs_background": "light"
          }
        },
        {
          "output_type": "stream",
          "name": "stdout",
          "text": [
            "0        79.000000\n",
            "1        79.000000\n",
            "2        79.000000\n",
            "3        79.000000\n",
            "4        79.000000\n",
            "           ...    \n",
            "12561    18.999842\n",
            "12562    18.999842\n",
            "12563    18.999842\n",
            "12564    18.999842\n",
            "12565    18.999842\n",
            "Name: RhOutdoor, Length: 12566, dtype: float64\n"
          ]
        },
        {
          "output_type": "stream",
          "name": "stderr",
          "text": [
            "/usr/local/lib/python3.8/dist-packages/seaborn/_decorators.py:36: FutureWarning: Pass the following variable as a keyword arg: x. From version 0.12, the only valid positional argument will be `data`, and passing other arguments without an explicit keyword will result in an error or misinterpretation.\n",
            "  warnings.warn(\n"
          ]
        },
        {
          "output_type": "display_data",
          "data": {
            "text/plain": [
              "<Figure size 432x288 with 1 Axes>"
            ],
            "image/png": "[encoded data removed]"
          },
          "metadata": {
            "needs_background": "light"
          }
        }
      ]
    },
    {
      "cell_type": "code",
      "source": [
        "print(df2)"
      ],
      "metadata": {
        "id": "1pTIu7g6rnqk",
        "colab": {
          "base_uri": "https://localhost:8080/"
        },
        "outputId": "4678a2f6-745a-4782-bc10-891d5e4ade70"
      },
      "execution_count": 397,
      "outputs": [
        {
          "output_type": "stream",
          "name": "stdout",
          "text": [
            "        Age  AMV  Met       Clo      Dewpt         Ta       Tmrt       Vel  \\\n",
            "0      35.0  2.0  1.5  0.650000  13.621447  19.900000  21.548174  0.060000   \n",
            "1      35.0  2.0  1.5  0.780000  13.621447  19.900000  21.548174  0.060000   \n",
            "2      35.0  1.0  1.5  1.050000  13.621447  20.000000  21.548174  0.060000   \n",
            "3      35.0  3.0  1.5  0.400000  13.621447  21.000000  21.548174  0.060000   \n",
            "4      35.0  3.0  1.5  0.370000  13.621447  23.000000  21.942458  0.060000   \n",
            "...     ...  ...  ...       ...        ...        ...        ...       ...   \n",
            "12561  35.0  1.0  0.7  0.778492  22.122000  22.142437  23.450261  0.112439   \n",
            "12562  35.0  1.0  0.7  0.778492  22.122000  22.142437  23.450261  0.112439   \n",
            "12563  35.0  1.0  0.7  0.778492  22.122000  22.142437  23.450261  0.112439   \n",
            "12564  35.0  1.0  0.7  0.778492  22.122000  22.142437  23.450261  0.112439   \n",
            "12565  35.0  1.0  0.7  0.778492  22.122000  22.142437  23.450261  0.112439   \n",
            "\n",
            "          Rh       PMV  TaOutdoor  RhOutdoor  \n",
            "0      51.25  0.340000  11.550000  79.000000  \n",
            "1      51.30  0.510000  11.550000  79.000000  \n",
            "2      51.90  0.800000  11.550000  79.000000  \n",
            "3      49.90  0.760000  11.550000  79.000000  \n",
            "4      45.60  1.155000  11.550000  79.000000  \n",
            "...      ...       ...        ...        ...  \n",
            "12561  22.90 -0.073676  17.174585  18.999842  \n",
            "12562  21.40 -0.073676  17.174585  18.999842  \n",
            "12563  23.10 -0.073676  17.174585  18.999842  \n",
            "12564  22.00 -0.073676  17.174585  18.999842  \n",
            "12565  20.30 -0.073676  17.174585  18.999842  \n",
            "\n",
            "[12566 rows x 12 columns]\n"
          ]
        }
      ]
    },
    {
      "cell_type": "code",
      "source": [
        "def find_outliers_IQR(df):\n",
        "\n",
        "   q1=df.quantile(0.25)\n",
        "\n",
        "   q3=df.quantile(0.75)\n",
        "\n",
        "   IQR=q3-q1\n",
        "\n",
        "   outliers = df[((df<(q1-1.5*IQR)) | (df>(q3+1.5*IQR)))]\n",
        "\n",
        "   return outliers\n",
        "\n",
        "for column_name in df2: \n",
        "  outliers = find_outliers_IQR(df2[column_name])\n",
        "  print(\"Outliers: \",column_name,\" \" + str(len(outliers)))"
      ],
      "metadata": {
        "id": "PqtjA4fRacZH",
        "colab": {
          "base_uri": "https://localhost:8080/"
        },
        "outputId": "8c4518eb-5e49-4bd5-e307-7ab155a30681"
      },
      "execution_count": 398,
      "outputs": [
        {
          "output_type": "stream",
          "name": "stdout",
          "text": [
            "Outliers:  Age  0\n",
            "Outliers:  AMV  0\n",
            "Outliers:  Met  0\n",
            "Outliers:  Clo  0\n",
            "Outliers:  Dewpt  0\n",
            "Outliers:  Ta  0\n",
            "Outliers:  Tmrt  0\n",
            "Outliers:  Vel  0\n",
            "Outliers:  Rh  0\n",
            "Outliers:  PMV  0\n",
            "Outliers:  TaOutdoor  0\n",
            "Outliers:  RhOutdoor  0\n"
          ]
        }
      ]
    },
    {
      "cell_type": "code",
      "source": [
        "print(df2.isna().sum())"
      ],
      "metadata": {
        "id": "M-_zwLKwf5kX",
        "colab": {
          "base_uri": "https://localhost:8080/"
        },
        "outputId": "31e3e3c3-fd83-425b-af32-161d85fd71e7"
      },
      "execution_count": 399,
      "outputs": [
        {
          "output_type": "stream",
          "name": "stdout",
          "text": [
            "Age          0\n",
            "AMV          0\n",
            "Met          0\n",
            "Clo          0\n",
            "Dewpt        0\n",
            "Ta           0\n",
            "Tmrt         0\n",
            "Vel          0\n",
            "Rh           0\n",
            "PMV          0\n",
            "TaOutdoor    0\n",
            "RhOutdoor    0\n",
            "dtype: int64\n"
          ]
        }
      ]
    },
    {
      "cell_type": "markdown",
      "source": [
        "# **Q5**"
      ],
      "metadata": {
        "id": "fW7ueOavxUGl"
      }
    },
    {
      "cell_type": "code",
      "source": [
        "print(df2.var())"
      ],
      "metadata": {
        "id": "KDRW-I_FxXqo",
        "colab": {
          "base_uri": "https://localhost:8080/"
        },
        "outputId": "c341667e-766a-41d1-844d-d8d7974d4327"
      },
      "execution_count": 400,
      "outputs": [
        {
          "output_type": "stream",
          "name": "stdout",
          "text": [
            "Age           46.584339\n",
            "AMV            1.209305\n",
            "Met            0.041571\n",
            "Clo            0.033370\n",
            "Dewpt         22.698750\n",
            "Ta             1.667084\n",
            "Tmrt           0.873679\n",
            "Vel            0.001498\n",
            "Rh           226.204128\n",
            "PMV            0.239404\n",
            "TaOutdoor     94.824547\n",
            "RhOutdoor    394.684046\n",
            "dtype: float64\n"
          ]
        }
      ]
    },
    {
      "cell_type": "code",
      "source": [
        "from sklearn.feature_selection import VarianceThreshold\n",
        "selector = VarianceThreshold()\n",
        "selector.fit_transform(df2)"
      ],
      "metadata": {
        "colab": {
          "base_uri": "https://localhost:8080/"
        },
        "id": "WaKiPUIlixPC",
        "outputId": "da7b10f4-8919-47ba-d02e-e6ffe3811366"
      },
      "execution_count": 401,
      "outputs": [
        {
          "output_type": "execute_result",
          "data": {
            "text/plain": [
              "array([[ 3.50000000e+01,  2.00000000e+00,  1.50000000e+00, ...,\n",
              "         3.40000000e-01,  1.15500000e+01,  7.90000000e+01],\n",
              "       [ 3.50000000e+01,  2.00000000e+00,  1.50000000e+00, ...,\n",
              "         5.10000000e-01,  1.15500000e+01,  7.90000000e+01],\n",
              "       [ 3.50000000e+01,  1.00000000e+00,  1.50000000e+00, ...,\n",
              "         8.00000000e-01,  1.15500000e+01,  7.90000000e+01],\n",
              "       ...,\n",
              "       [ 3.50000000e+01,  1.00000000e+00,  7.00000000e-01, ...,\n",
              "        -7.36756529e-02,  1.71745847e+01,  1.89998419e+01],\n",
              "       [ 3.50000000e+01,  1.00000000e+00,  7.00000000e-01, ...,\n",
              "        -7.36756529e-02,  1.71745847e+01,  1.89998419e+01],\n",
              "       [ 3.50000000e+01,  1.00000000e+00,  7.00000000e-01, ...,\n",
              "        -7.36756529e-02,  1.71745847e+01,  1.89998419e+01]])"
            ]
          },
          "metadata": {},
          "execution_count": 401
        }
      ]
    },
    {
      "cell_type": "markdown",
      "source": [
        "# **Q6A**"
      ],
      "metadata": {
        "id": "aL69aZpzf3Ws"
      }
    },
    {
      "cell_type": "code",
      "source": [
        "dataplot=sns.heatmap(df2.corr())\n",
        "plt.show()"
      ],
      "metadata": {
        "id": "ToPQBxUjkE2s",
        "colab": {
          "base_uri": "https://localhost:8080/",
          "height": 313
        },
        "outputId": "6a1d8610-c04c-42ac-ad76-86bdd45b2dd1"
      },
      "execution_count": 402,
      "outputs": [
        {
          "output_type": "display_data",
          "data": {
            "text/plain": [
              "<Figure size 432x288 with 2 Axes>"
            ],
            "image/png": "[encoded data removed]"
          },
          "metadata": {
            "needs_background": "light"
          }
        }
      ]
    },
    {
      "cell_type": "code",
      "source": [
        "print(df2.corr())"
      ],
      "metadata": {
        "id": "KMpvUi_foMcY",
        "colab": {
          "base_uri": "https://localhost:8080/"
        },
        "outputId": "12f07886-20c7-4dab-a9fc-12c79955101f"
      },
      "execution_count": 403,
      "outputs": [
        {
          "output_type": "stream",
          "name": "stdout",
          "text": [
            "                Age       AMV       Met       Clo     Dewpt        Ta  \\\n",
            "Age        1.000000  0.015335 -0.045354  0.172838 -0.123948 -0.053250   \n",
            "AMV        0.015335  1.000000 -0.186941 -0.025969  0.221648  0.245825   \n",
            "Met       -0.045354 -0.186941  1.000000 -0.125545 -0.478985  0.008653   \n",
            "Clo        0.172838 -0.025969 -0.125545  1.000000 -0.161412 -0.228199   \n",
            "Dewpt     -0.123948  0.221648 -0.478985 -0.161412  1.000000  0.185950   \n",
            "Ta        -0.053250  0.245825  0.008653 -0.228199  0.185950  1.000000   \n",
            "Tmrt      -0.103697  0.254437 -0.021137 -0.245260  0.330317  0.709615   \n",
            "Vel       -0.022680 -0.049671  0.026154 -0.113099  0.180739  0.058164   \n",
            "Rh        -0.238918 -0.169134  0.376326 -0.322418  0.075172  0.193914   \n",
            "PMV        0.032745  0.258599  0.269493  0.348673  0.187332  0.458608   \n",
            "TaOutdoor -0.286001 -0.028385  0.087670 -0.473177  0.348134  0.325787   \n",
            "RhOutdoor  0.008936 -0.256032  0.495665  0.037017 -0.535550  0.060385   \n",
            "\n",
            "               Tmrt       Vel        Rh       PMV  TaOutdoor  RhOutdoor  \n",
            "Age       -0.103697 -0.022680 -0.238918  0.032745  -0.286001   0.008936  \n",
            "AMV        0.254437 -0.049671 -0.169134  0.258599  -0.028385  -0.256032  \n",
            "Met       -0.021137  0.026154  0.376326  0.269493   0.087670   0.495665  \n",
            "Clo       -0.245260 -0.113099 -0.322418  0.348673  -0.473177   0.037017  \n",
            "Dewpt      0.330317  0.180739  0.075172  0.187332   0.348134  -0.535550  \n",
            "Ta         0.709615  0.058164  0.193914  0.458608   0.325787   0.060385  \n",
            "Tmrt       1.000000  0.146461  0.133579  0.390570   0.339621  -0.062858  \n",
            "Vel        0.146461  1.000000  0.079149 -0.054687   0.197425  -0.101066  \n",
            "Rh         0.133579  0.079149  1.000000  0.006098   0.675047   0.407729  \n",
            "PMV        0.390570 -0.054687  0.006098  1.000000   0.053999  -0.053323  \n",
            "TaOutdoor  0.339621  0.197425  0.675047  0.053999   1.000000  -0.110382  \n",
            "RhOutdoor -0.062858 -0.101066  0.407729 -0.053323  -0.110382   1.000000  \n"
          ]
        }
      ]
    },
    {
      "cell_type": "markdown",
      "source": [
        "# **Q7**"
      ],
      "metadata": {
        "id": "I5-Y5dClsxVC"
      }
    },
    {
      "cell_type": "code",
      "source": [
        "from scipy.stats import entropy\n",
        "def calculate_entropy(df2):\n",
        "    prob = df2.value_counts(normalize = True)\n",
        "    entropy = -1 * np.sum(np.log2(prob) * prob)\n",
        "    return round(entropy, 3)\n",
        "for i in df2:\n",
        "  print('Entropy: ', i, ' {}'.format(calculate_entropy(df2[i])))"
      ],
      "metadata": {
        "id": "HwFJBLGv9IhK",
        "colab": {
          "base_uri": "https://localhost:8080/"
        },
        "outputId": "d55d3167-2ecd-485e-86ef-c1ec8974ce53"
      },
      "execution_count": 404,
      "outputs": [
        {
          "output_type": "stream",
          "name": "stdout",
          "text": [
            "Entropy:  Age  3.421\n",
            "Entropy:  AMV  3.507\n",
            "Entropy:  Met  4.836\n",
            "Entropy:  Clo  7.101\n",
            "Entropy:  Dewpt  7.451\n",
            "Entropy:  Ta  8.095\n",
            "Entropy:  Tmrt  7.119\n",
            "Entropy:  Vel  4.98\n",
            "Entropy:  Rh  10.879\n",
            "Entropy:  PMV  7.409\n",
            "Entropy:  TaOutdoor  7.579\n",
            "Entropy:  RhOutdoor  7.204\n"
          ]
        }
      ]
    },
    {
      "cell_type": "code",
      "source": [
        "def calculate_IG(df2, target, feature):\n",
        "    target_entropy = calculate_entropy(df2[target])\n",
        "    entropy_list = []\n",
        "    weight_list = []\n",
        "    for i in df2[feature].unique():\n",
        "        feature_level = df2[df2[feature] == i]\n",
        "        entropy_level = calculate_entropy(feature_level[target])\n",
        "        entropy_list.append(round(entropy_level, 3))\n",
        "        weight_level = len(feature_level) / len(df2)\n",
        "        weight_list.append(round(weight_level, 3))\n",
        "    remaining_entropy = np.sum(np.array(entropy_list) * np.array(weight_list))\n",
        "    information_gain = target_entropy - remaining_entropy\n",
        "    return information_gain"
      ],
      "metadata": {
        "id": "5-Pc0El6NxpF"
      },
      "execution_count": 405,
      "outputs": []
    },
    {
      "cell_type": "code",
      "source": [
        "df2['AMV'] = df2['AMV'].astype(int)\n",
        "for i in df2.drop(columns = 'AMV').columns:\n",
        "    info_gain = calculate_IG(df2, 'AMV', i)\n",
        "    print(i)\n",
        "    print(round(info_gain, 3))"
      ],
      "metadata": {
        "colab": {
          "base_uri": "https://localhost:8080/"
        },
        "id": "oBWS0q0fElc7",
        "outputId": "4509d764-adf1-47e1-a808-8c0b0d669a48"
      },
      "execution_count": 406,
      "outputs": [
        {
          "output_type": "stream",
          "name": "stdout",
          "text": [
            "Age\n",
            "0.068\n",
            "Met\n",
            "0.299\n",
            "Clo\n",
            "0.359\n",
            "Dewpt\n",
            "0.738\n",
            "Ta\n",
            "0.577\n",
            "Tmrt\n",
            "0.552\n",
            "Vel\n",
            "0.255\n",
            "Rh\n",
            "1.186\n",
            "PMV\n",
            "0.259\n",
            "TaOutdoor\n",
            "0.418\n",
            "RhOutdoor\n",
            "0.389\n"
          ]
        }
      ]
    },
    {
      "cell_type": "markdown",
      "source": [
        "# Part **B**"
      ],
      "metadata": {
        "id": "0ifPoZHOVS9m"
      }
    },
    {
      "cell_type": "markdown",
      "source": [
        "# **Q1**"
      ],
      "metadata": {
        "id": "_FbUw_uNViKi"
      }
    },
    {
      "cell_type": "code",
      "source": [
        "from sklearn.model_selection import train_test_split\n",
        "from sklearn import preprocessing\n",
        "Features = ['Age','Clo','Met','Dewpt','Ta','Tmrt','Vel','Rh','TaOutdoor','RhOutdoor']\n",
        "X = df2.loc[:, Features]\n",
        "Response_variable = ['AMV' ,'PMV']\n",
        "Y= df2.loc[:, Response_variable]\n",
        "num=int(len(df2)*0.8)\n",
        "X_train, X_test, y_train, y_test = train_test_split( X, Y, test_size=0.2, random_state=num)\n",
        "normalized_data = preprocessing.normalize(df2)\n",
        "print(normalized_data)"
      ],
      "metadata": {
        "id": "jFspA07eVm0L"
      },
      "execution_count": null,
      "outputs": []
    },
    {
      "cell_type": "markdown",
      "source": [
        "# **Q2A**"
      ],
      "metadata": {
        "id": "NRhBAKDUX9xk"
      }
    },
    {
      "cell_type": "code",
      "source": [
        "from sklearn.feature_selection import SequentialFeatureSelector as sfs\n",
        "from sklearn.linear_model import LinearRegression\n",
        "\n",
        "p_x = df2[['Age','Clo','Met','Dewpt','Ta','Tmrt','Vel','Rh','TaOutdoor','RhOutdoor']]\n",
        "p_y = df2['PMV']"
      ],
      "metadata": {
        "id": "Y0SwG_4XYAXU"
      },
      "execution_count": 227,
      "outputs": []
    },
    {
      "cell_type": "code",
      "source": [
        "f_s = sfs(LinearRegression(), n_features_to_select = 5, direction = 'forward')\n",
        "f_s.fit(p_x, p_y)"
      ],
      "metadata": {
        "colab": {
          "base_uri": "https://localhost:8080/"
        },
        "id": "okYDfc7w3o3U",
        "outputId": "da4a77f7-d6b4-42c8-c6be-7a0d66a7b078"
      },
      "execution_count": 228,
      "outputs": [
        {
          "output_type": "execute_result",
          "data": {
            "text/plain": [
              "SequentialFeatureSelector(estimator=LinearRegression(), n_features_to_select=5)"
            ]
          },
          "metadata": {},
          "execution_count": 228
        }
      ]
    },
    {
      "cell_type": "code",
      "source": [
        "f_s.get_support()"
      ],
      "metadata": {
        "colab": {
          "base_uri": "https://localhost:8080/"
        },
        "id": "5VWMbbbI1j90",
        "outputId": "5ad31828-de62-4e78-df2b-e0a377624d09"
      },
      "execution_count": 229,
      "outputs": [
        {
          "output_type": "execute_result",
          "data": {
            "text/plain": [
              "array([ True,  True, False,  True,  True,  True, False, False, False,\n",
              "       False])"
            ]
          },
          "metadata": {},
          "execution_count": 229
        }
      ]
    },
    {
      "cell_type": "code",
      "source": [
        "X_train_pfs = X_train[['Age', 'Clo', 'Dewpt', 'Ta', 'Tmrt']]\n",
        "y_train_pfs = y_train['PMV']\n",
        "X_test_pfs = X_test[['Age', 'Clo', 'Dewpt', 'Ta', 'Tmrt']]\n",
        "y_test_pfs = y_test[['PMV']]\n",
        "lreg_ = LinearRegression()\n",
        "lreg_.fit(X_train_pfs, y_train_pfs)\n",
        "y_pred = lreg_.predict(X_test_pfs)\n",
        "lreg_.score(X_test_pfs, y_pred)"
      ],
      "metadata": {
        "colab": {
          "base_uri": "https://localhost:8080/"
        },
        "id": "bpWuE0aW1lbt",
        "outputId": "01d1af05-a326-4b89-cd4d-c9a0f013c63a"
      },
      "execution_count": 230,
      "outputs": [
        {
          "output_type": "execute_result",
          "data": {
            "text/plain": [
              "1.0"
            ]
          },
          "metadata": {},
          "execution_count": 230
        }
      ]
    },
    {
      "cell_type": "markdown",
      "source": [
        "# **Q2B**"
      ],
      "metadata": {
        "id": "9j2QsrtyHOMH"
      }
    },
    {
      "cell_type": "code",
      "source": [
        "b_s = sfs(LinearRegression(), n_features_to_select = 5, direction = 'backward')\n",
        "b_s.fit(p_x, p_y)"
      ],
      "metadata": {
        "colab": {
          "base_uri": "https://localhost:8080/"
        },
        "id": "06uh-54U2LXe",
        "outputId": "0f510bff-25f1-4aa4-e134-9c565c49bb7c"
      },
      "execution_count": 231,
      "outputs": [
        {
          "output_type": "execute_result",
          "data": {
            "text/plain": [
              "SequentialFeatureSelector(direction='backward', estimator=LinearRegression(),\n",
              "                          n_features_to_select=5)"
            ]
          },
          "metadata": {},
          "execution_count": 231
        }
      ]
    },
    {
      "cell_type": "code",
      "source": [
        "b_s.get_support()"
      ],
      "metadata": {
        "colab": {
          "base_uri": "https://localhost:8080/"
        },
        "id": "YORv7Qs03QfZ",
        "outputId": "8838d35b-4c04-4e22-c510-4b71cc0a7bfb"
      },
      "execution_count": 232,
      "outputs": [
        {
          "output_type": "execute_result",
          "data": {
            "text/plain": [
              "array([ True,  True, False,  True,  True,  True, False, False, False,\n",
              "       False])"
            ]
          },
          "metadata": {},
          "execution_count": 232
        }
      ]
    },
    {
      "cell_type": "code",
      "source": [
        "X_train_pfs = X_train[['Age', 'Clo', 'Dewpt', 'Ta', 'Tmrt']]\n",
        "y_train_pfs = y_train['PMV']\n",
        "X_test_pfs = X_test[['Age', 'Clo', 'Dewpt', 'Ta', 'Tmrt']]\n",
        "y_test_pfs = y_test[['PMV']]\n",
        "lreg_ = LinearRegression()\n",
        "lreg_.fit(X_train_pfs, y_train_pfs)\n",
        "y_pred = lreg_.predict(X_test_pfs)\n",
        "lreg_.score(X_test_pfs, y_pred)"
      ],
      "metadata": {
        "colab": {
          "base_uri": "https://localhost:8080/"
        },
        "id": "tn8CzSp3-k6E",
        "outputId": "587b64f2-0e52-42d2-d861-7800e74aaed8"
      },
      "execution_count": 233,
      "outputs": [
        {
          "output_type": "execute_result",
          "data": {
            "text/plain": [
              "1.0"
            ]
          },
          "metadata": {},
          "execution_count": 233
        }
      ]
    },
    {
      "cell_type": "markdown",
      "source": [
        "# **Q3A**"
      ],
      "metadata": {
        "id": "TOzgUlkF-yLj"
      }
    },
    {
      "cell_type": "code",
      "source": [
        "from sklearn.linear_model import LogisticRegression\n",
        "from sklearn.metrics import accuracy_score\n",
        "a_x = df2[['Age','Clo','Met','Dewpt','Ta','Tmrt','Vel','Rh','TaOutdoor','RhOutdoor']]\n",
        "a_y = df2['AMV']\n",
        "f_s = sfs(LogisticRegression(), n_features_to_select = 5, direction = 'forward')"
      ],
      "metadata": {
        "id": "jDYYV-qD-06k"
      },
      "execution_count": 248,
      "outputs": []
    },
    {
      "cell_type": "code",
      "source": [
        "f_s.fit(a_x, a_y)"
      ],
      "metadata": {
        "id": "wLUYiV7O_2Uk"
      },
      "execution_count": null,
      "outputs": []
    },
    {
      "cell_type": "code",
      "source": [
        "f_s.get_support()"
      ],
      "metadata": {
        "colab": {
          "base_uri": "https://localhost:8080/"
        },
        "id": "fn4K5mS4_31T",
        "outputId": "81855f6a-3607-4606-a6e7-66d826f0f912"
      },
      "execution_count": 236,
      "outputs": [
        {
          "output_type": "execute_result",
          "data": {
            "text/plain": [
              "array([ True,  True,  True, False, False,  True,  True, False, False,\n",
              "       False])"
            ]
          },
          "metadata": {},
          "execution_count": 236
        }
      ]
    },
    {
      "cell_type": "code",
      "source": [
        "X_train_afs = X_train[['Age', 'Clo', 'Met', 'Tmrt', 'Vel']]\n",
        "y_train_afs = y_train['AMV']\n",
        "X_test_afs = X_test[['Age', 'Clo', 'Met', 'Tmrt', 'Vel']]\n",
        "y_test_afs = y_test[['AMV']]\n",
        "logreg_ = LogisticRegression()"
      ],
      "metadata": {
        "id": "GiU3dxqC_7Dh"
      },
      "execution_count": 240,
      "outputs": []
    },
    {
      "cell_type": "code",
      "source": [
        "logreg_.fit(X_train_afs, y_train_afs)\n",
        "y_pred = logreg_.predict(X_test_afs)\n",
        "accuracy_score(y_test_afs, y_pred)"
      ],
      "metadata": {
        "id": "jw0eY8J0A6xh"
      },
      "execution_count": null,
      "outputs": []
    },
    {
      "cell_type": "markdown",
      "source": [
        "# **Q3B**"
      ],
      "metadata": {
        "id": "4jsJF_5LH6au"
      }
    },
    {
      "cell_type": "code",
      "source": [
        "f_s = sfs(LogisticRegression(), n_features_to_select = 5, direction = 'backward')\n",
        "f_s.fit(a_x, a_y)"
      ],
      "metadata": {
        "id": "UMx8g1PTGX5m"
      },
      "execution_count": null,
      "outputs": []
    },
    {
      "cell_type": "code",
      "source": [
        "f_s.get_support()"
      ],
      "metadata": {
        "colab": {
          "base_uri": "https://localhost:8080/"
        },
        "id": "d8LBBgXeInDZ",
        "outputId": "eab27780-757b-4b47-b586-bec22ff9105e"
      },
      "execution_count": 245,
      "outputs": [
        {
          "output_type": "execute_result",
          "data": {
            "text/plain": [
              "array([False,  True,  True, False,  True,  True,  True, False, False,\n",
              "       False])"
            ]
          },
          "metadata": {},
          "execution_count": 245
        }
      ]
    },
    {
      "cell_type": "code",
      "source": [
        "X_train_abs = X_train[['Clo', 'Met', 'Ta', 'Tmrt', 'Vel']]\n",
        "y_train_abs = y_train['AMV']\n",
        "X_test_abs = X_test[['Clo', 'Met', 'Ta', 'Tmrt', 'Vel']]\n",
        "y_test_abs = y_test[['AMV']]\n",
        "logreg_ = LogisticRegression()"
      ],
      "metadata": {
        "id": "I2VRHaRvGfyl"
      },
      "execution_count": 247,
      "outputs": []
    },
    {
      "cell_type": "code",
      "source": [
        "logreg_.fit(X_train_abs, y_train_abs)\n",
        "y_pred = logreg_.predict(X_test_abs)\n",
        "accuracy_score(y_test_abs, y_pred)"
      ],
      "metadata": {
        "id": "2PcdrSYqI84b"
      },
      "execution_count": null,
      "outputs": []
    },
    {
      "cell_type": "markdown",
      "source": [
        "# **Q4**"
      ],
      "metadata": {
        "id": "oIyNaSeGJL4a"
      }
    },
    {
      "cell_type": "code",
      "source": [
        "from sklearn.model_selection import KFold\n",
        "from sklearn.model_selection import cross_val_score\n",
        "from sklearn.metrics import confusion_matrix\n",
        "kf = KFold(n_splits = 3, shuffle = True, random_state = 101)\n",
        "cross_val_score(lreg_, X_train_pfs, y_train_pfs)"
      ],
      "metadata": {
        "colab": {
          "base_uri": "https://localhost:8080/"
        },
        "id": "C2OALbnFJKRn",
        "outputId": "063c7771-aa0d-4e73-b59c-3b6d98a60cd0"
      },
      "execution_count": 257,
      "outputs": [
        {
          "output_type": "execute_result",
          "data": {
            "text/plain": [
              "array([0.48644885, 0.44547353, 0.45150303, 0.46566876, 0.48301733])"
            ]
          },
          "metadata": {},
          "execution_count": 257
        }
      ]
    },
    {
      "cell_type": "code",
      "source": [
        "kf = KFold(n_splits = 3, shuffle = True, random_state = 101)\n",
        "cross_val_score(logreg_, X_train_abs, y_train_abs)"
      ],
      "metadata": {
        "id": "WGBPm-AqLVaU"
      },
      "execution_count": null,
      "outputs": []
    },
    {
      "cell_type": "code",
      "source": [
        "confusion_matrix(y_test_abs, y_pred)"
      ],
      "metadata": {
        "colab": {
          "base_uri": "https://localhost:8080/"
        },
        "id": "iGGQB1O2Lfwq",
        "outputId": "10f09fb4-1dab-4d61-cbb2-87914244cf81"
      },
      "execution_count": 358,
      "outputs": [
        {
          "output_type": "execute_result",
          "data": {
            "text/plain": [
              "array([[   0,    0,    0,   19,    1,    0,    0],\n",
              "       [   0,    0,    0,  121,    5,    0,    0],\n",
              "       [   0,    0,    0,  439,   10,    0,    0],\n",
              "       [   0,    0,    0, 1051,   27,    0,    0],\n",
              "       [   0,    0,    0,  370,  291,    0,    0],\n",
              "       [   0,    0,    0,  134,   25,    0,    0],\n",
              "       [   0,    0,    0,   19,    2,    0,    0]])"
            ]
          },
          "metadata": {},
          "execution_count": 358
        }
      ]
    }
  ]
}